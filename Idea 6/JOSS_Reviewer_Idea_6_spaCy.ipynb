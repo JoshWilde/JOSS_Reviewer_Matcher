{
 "cells": [
  {
   "cell_type": "code",
   "execution_count": 1,
   "id": "fe951c3a-8ff4-4ce0-9c93-b701564a92be",
   "metadata": {},
   "outputs": [],
   "source": [
    "import numpy as np\n",
    "import sys\n",
    "from sklearn.datasets import fetch_20newsgroups\n",
    "from nltk import word_tokenize\n",
    "from nltk import download\n",
    "from nltk.corpus import stopwords\n",
    "import matplotlib.pyplot as plt\n",
    "from sklearn.decomposition import PCA\n",
    "%matplotlib inline\n",
    "import spacy"
   ]
  },
  {
   "cell_type": "code",
   "execution_count": 2,
   "id": "095b4796-cda7-4cb1-a4e9-d22b10ab56af",
   "metadata": {},
   "outputs": [],
   "source": [
    "from JOSS_PDF_Cleaner import Clean_PDF\n",
    "import re\n",
    "from termcolor import colored\n",
    "import warnings"
   ]
  },
  {
   "cell_type": "code",
   "execution_count": 3,
   "id": "4bec27e8-f742-4a3e-a0ab-71d60fbf54db",
   "metadata": {},
   "outputs": [
    {
     "name": "stderr",
     "output_type": "stream",
     "text": [
      "[nltk_data] Downloading package stopwords to\n",
      "[nltk_data]     /Users/sunilmcesh/nltk_data...\n",
      "[nltk_data]   Package stopwords is already up-to-date!\n",
      "[nltk_data] Downloading package punkt to\n",
      "[nltk_data]     /Users/sunilmcesh/nltk_data...\n",
      "[nltk_data]   Package punkt is already up-to-date!\n",
      "[nltk_data] Downloading package wordnet to\n",
      "[nltk_data]     /Users/sunilmcesh/nltk_data...\n",
      "[nltk_data]   Package wordnet is already up-to-date!\n"
     ]
    }
   ],
   "source": [
    "import numpy as np\n",
    "import matplotlib.pyplot as plt\n",
    "import pandas as pd\n",
    "import glob\n",
    "import string\n",
    "import glob\n",
    "from tqdm import tqdm \n",
    "#import pdfminer\n",
    "from pdfminer.high_level import extract_text\n",
    "import pandas as pd\n",
    "from sklearn.feature_extraction.text import TfidfVectorizer\n",
    "import nltk \n",
    "nltk.download('stopwords')\n",
    "import numpy as np\n",
    "from sklearn.pipeline import Pipeline\n",
    "from sklearn.feature_extraction.text import TfidfTransformer\n",
    "from sklearn.feature_extraction.text import CountVectorizer\n",
    "import nltk\n",
    "nltk.download('punkt')\n",
    "from nltk import sent_tokenize\n",
    "from nltk import word_tokenize\n",
    "from nltk.corpus import stopwords\n",
    "from nltk.stem import WordNetLemmatizer\n",
    "nltk.download('wordnet')\n",
    "from nltk.probability import FreqDist"
   ]
  },
  {
   "cell_type": "code",
   "execution_count": 4,
   "id": "fcdf7076-8c78-4777-9dd2-713fd8a93ada",
   "metadata": {},
   "outputs": [],
   "source": [
    "df_reviewers = pd.read_csv('../Data/JOSS Table Test.csv')"
   ]
  },
  {
   "cell_type": "code",
   "execution_count": 5,
   "id": "4f51f61a-4613-4820-8a4d-c882c02e88e7",
   "metadata": {},
   "outputs": [],
   "source": [
    "def GetReviewer_Vectors(df_reviewers=df_reviewers):\n",
    "    reviewer_vectors = np.zeros(((df_reviewers.shape[0]-1),300))\n",
    "    for i in range(df_reviewers.shape[0]-1):\n",
    "        #if i%10 == 0:\n",
    "        #    print(i)\n",
    "        if pd.isna(df_reviewers['Domains/topic areas you are comfortable reviewing'].iloc[1:].values[i]) == False:\n",
    "            review_text = df_reviewers['Domains/topic areas you are comfortable reviewing'].iloc[1:].values[i].lower()\n",
    "            review_text = review_text.replace('-\\\\n','')\n",
    "            review_text = review_text.replace('\\\\n',' ')\n",
    "            review_text = review_text.replace('\\n', ' ')\n",
    "        \n",
    "            review_arr = []\n",
    "            for token in model(review_text):\n",
    "                if token.is_alpha == True:\n",
    "                    if token.is_stop == False:\n",
    "                        review_arr.append(str(token.lemma_).lower())\n",
    "            review_arr = np.array(review_arr)\n",
    "        \n",
    "            review_str = ''\n",
    "            for j in np.unique(review_arr):\n",
    "                review_str = review_str + j +' '\n",
    "        \n",
    "        #print(model(review_str).vector.shape)\n",
    "        #print(reviewer_vectors.shape)\n",
    "            reviewer_vectors[i] = model(review_str).vector\n",
    "    \n",
    "    return reviewer_vectors"
   ]
  },
  {
   "cell_type": "code",
   "execution_count": 6,
   "id": "0598095e-d4ed-427d-a9f5-4bbd17c54060",
   "metadata": {},
   "outputs": [],
   "source": [
    "def GetCosineSims(doc_vec, review_vec, df_reviewers=df_reviewers):\n",
    "    all_usernames = []\n",
    "    all_domains = []\n",
    "    all_cosine_sims = []\n",
    "    for j in range(len(review_vec)):\n",
    "        if pd.isna(df_reviewers.iloc[j+1]['Domains/topic areas you are comfortable reviewing']) == False:\n",
    "            all_cosine_sims.append(cosine_similarity(np.array([doc_vec]), np.array([review_vec[j]]))[0,0])\n",
    "            all_domains.append(df_reviewers.iloc[j+1]['Domains/topic areas you are comfortable reviewing'].lower())\n",
    "            all_usernames.append(df_reviewers.iloc[j+1].username)\n",
    "    all_usernames= np.array(all_usernames)\n",
    "    all_domains= np.array(all_domains)\n",
    "    all_cosine_sims= np.array(all_cosine_sims)\n",
    "    \n",
    "    return all_usernames, all_domains, all_cosine_sims"
   ]
  },
  {
   "cell_type": "code",
   "execution_count": 7,
   "id": "95e5a244-ea96-4a80-8b47-4248bec720f1",
   "metadata": {},
   "outputs": [
    {
     "name": "stdout",
     "output_type": "stream",
     "text": [
      "/Volumes/Seagate Backup Plus Drive/JOSS Project/joss-papers-master/joss-papers-master/joss.00592/10.21105.joss.00592.pdf\n"
     ]
    }
   ],
   "source": [
    "PAPER_OF_INTEREST_FNAME  = glob.glob('/Volumes/Seagate Backup Plus Drive/JOSS Project/joss-papers-master/*/*/*.pdf')\n",
    "K = 260\n",
    "print(PAPER_OF_INTEREST_FNAME[K])\n",
    "Paper_interest = PAPER_OF_INTEREST_FNAME[K]"
   ]
  },
  {
   "cell_type": "code",
   "execution_count": 8,
   "id": "ead5e11e-e2a0-48cc-8135-0924ec288a9c",
   "metadata": {},
   "outputs": [],
   "source": [
    "def MakeGreenRedText(Paper_interest, printer=True):\n",
    "    texts = ''\n",
    "    arr = []\n",
    "    from pdfminer.high_level import extract_pages\n",
    "    from pdfminer.layout import LTTextContainer\n",
    "    for page_layout in extract_pages(Paper_interest):\n",
    "        for element in page_layout:\n",
    "            if isinstance(element, LTTextContainer):\n",
    "                score = Clean_PDF(element.get_text().lower())\n",
    "            #print(score)\n",
    "                if score == 0:\n",
    "                    if printer == True:\n",
    "                        print(colored(element.get_text().lower(), 'green'))\n",
    "                    arr.append(element.get_text())\n",
    "                    texts = texts  + element.get_text() + ' '\n",
    "                else:\n",
    "                    if printer == True:\n",
    "                        print(colored(element.get_text().lower(), 'red'))\n",
    "            #arr.append(element.get_text())\n",
    "            #texts = texts  + element.get_text() + ' '\n",
    "    arr = np.array(arr)\n",
    "    return texts, arr"
   ]
  },
  {
   "cell_type": "code",
   "execution_count": 9,
   "id": "1bf307e7-a712-40e3-8952-3641348f844d",
   "metadata": {},
   "outputs": [
    {
     "name": "stdout",
     "output_type": "stream",
     "text": [
      "\u001b[31msummary\n",
      "\u001b[0m\n",
      "\u001b[31mdoi: 10.21105/joss.00592\n",
      "\u001b[0m\n",
      "\u001b[31msoftware\n",
      "\u001b[0m\n",
      "\u001b[31m• review\n",
      "• repository\n",
      "• archive\n",
      "\u001b[0m\n",
      "\u001b[31msubmitted: 12 december 2017\n",
      "published: 15 june 2018\n",
      "\u001b[0m\n",
      "\u001b[31mlicense\n",
      "authors of papers retain copyright\n",
      "and release the work under a cre-\n",
      "ative commons attribution 4.0 in-\n",
      "ternational license (cc-by).\n",
      "\u001b[0m\n",
      "\u001b[32maronnax: an idealised isopycnal ocean model\n",
      "\u001b[0m\n",
      "\u001b[31medward w. doddridge1 and alexey radul2\n",
      "\u001b[0m\n",
      "\u001b[31m1 earth, atmospheric and planetary science, massachusetts institute of technology, cambridge,\n",
      "ma, usa 2 brain and cognitive science, massachusetts institute of technology, cambridge, ma,\n",
      "usa\n",
      "\u001b[0m\n",
      "\u001b[32maronnax is a highly idealised model for simulating large-scale (100-1000km) flows in the\n",
      "ocean. aronnax is intended for theoretical and empirical oceanographers, as a (relatively)\n",
      "fast and easy-to-use simulation model, bridging the gap between pencil-and-paper on one\n",
      "hand, and more faithful (and complex) computational models on the other. the numerical\n",
      "core is written in fortran to improve performance, and wrapped in python to improve\n",
      "usability.\n",
      "\u001b[0m\n",
      "\u001b[32maronnax is an isopyncal model: it approximates the ocean as a number of discrete homo-\n",
      "geneous layers with spatially variable thicknesses. these layers are stacked vertically and\n",
      "the density difference between neighbouring layers is specified by the user. other widely\n",
      "used vertical coordinates require solving the equations of motion at specified vertical lev-\n",
      "els where the density is allowed to vary (s. m. griffies et al. 2000). representing the\n",
      "large-scale ocean circulation in layers contributes to aronnax’s speed: one needs only a\n",
      "few layers to achieve the same fidelity as 50 or more fixed vertical levels (stewart et al.\n",
      "2017).\n",
      "\u001b[0m\n",
      "\u001b[32maronnax serves three distinct purposes. firstly, many of the studies that use a model\n",
      "like aronnax do not provide the source code, see e.g. (davis, lique, and johnson 2014,\n",
      "février, sirven, and herbaut (2007), johnson and marshall (2002), stern (1998)). this\n",
      "increases the likelihood that coding errors go undetected, and requires that each research\n",
      "group spend time developing their own idealised model. aronnax solves these problems\n",
      "by providing an open source, tested model for the community to use. secondly, aronnax\n",
      "furthers the goals of scientific reproducibility since a simulation can be entirely specified\n",
      "with a set of input files and a version number. thirdly, aronnax provides an easy-to-use\n",
      "model that may be included in future modelling hierarchies with minimal effort, thereby\n",
      "enabling new research questions to be addressed.\n",
      "\u001b[0m\n",
      "\u001b[32mthere are a number of other publicly available ocean models. of these the most abundant\n",
      "are general circulation models and quasigeostrophic models. general circulation models\n",
      "such as nemo, gold, mom6, and mitgcm solve a less idealised version of the navier-\n",
      "stokes equations and can be coupled with sea ice and atmospheric models to create\n",
      "fully coupled climate models. because the underlying equations are derived with fewer\n",
      "approximations these models can more faithfully simulate a wider range of flow regimes.\n",
      "however, this comes at a price; general circulation models are extremely complex, with\n",
      "numerous free parameters that must be specified, often prior to compiling the source code.\n",
      "it is possible to use most of these models in idealised configurations, but doing so requires\n",
      "a substantial investment of time from the user, and non-trivial computing resources. in\n",
      "comparison, aronnax is easy to install and cheap to run.\n",
      "\u001b[0m\n",
      "\u001b[32mthe other abundant class of models is quasigeostrophic models. geostrophy is a balance\n",
      "between the coriolis force and the horizontal gradient of the pressure field; flows in\n",
      "which the coriolis force and the horizontal pressure gradient almost balance are known\n",
      "\u001b[0m\n",
      "\u001b[31mdoddridge et al., (2018). aronnax: an idealised isopycnal ocean model. journal of open source software, 3(26), 592.\n",
      "https://doi.org/10.21105/joss.00592\n",
      "\u001b[0m\n",
      "\u001b[31m1\n",
      "\u001b[0m\n",
      "\u001b[32mas quasigeostrophic. quasigeostrophic models of the ocean make use of this near balance\n",
      "and a number of other assumptions to simplify the equations of motion from a system of\n",
      "five coupled partial differential equations to a single partial differential equation (vallis\n",
      "2006). quasigeostrophic models range in complexity from qgcm, which includes the\n",
      "option of a coupled atmosphere, to doubly periodic quasigeostrophic turbulence models\n",
      "such as pyqg and qgmodel. while quasigeostrophic models are extremely useful, there\n",
      "are some problems for which they are ill-suited. for example, the adjustment of the ocean\n",
      "circulation often occurs through ageostrophic motions such as boundary waves (johnson\n",
      "and marshall 2002), which are not represented in quasigeostrophic models. in addition,\n",
      "quasigeostrophic models are limited in their representation of sloping bathymetry (depth\n",
      "of the sea floor). for these reasons it may be preferable to use an idealised non-linear\n",
      "model such as aronnax.\n",
      "\u001b[0m\n",
      "\u001b[32maronnax is mit licensed and can be retrieved from github at https://github.com/\n",
      "edoddridge/aronnax.\n",
      "\u001b[0m\n",
      "\u001b[31mreferences\n",
      "\u001b[0m\n",
      "\u001b[31mdavis, peter e d, camille lique, and helen l. johnson. 2014. “on the link between arctic\n",
      "sea ice decline and the freshwater content of the beaufort gyre: insights from a simple\n",
      "process model.” j. clim. 27 (21):8170–84. https://doi.org/10.1175/jcli-d-14-00090.1.\n",
      "\u001b[0m\n",
      "\u001b[31mfévrier, sabine, jérôme sirven, and christophe herbaut. 2007. “interaction of a coastal\n",
      "j. phys.\n",
      "kelvin wave with the mean state in the gulf stream separation area.”\n",
      "oceanogr. 37 (6):1429–44. https://doi.org/10.1175/jpo3062.1.\n",
      "\u001b[0m\n",
      "\u001b[31mgriffies, stephen m, claus böning, frank o. bryan, eric p. chassignet, rudiger gerdes,\n",
      "hiroyasu hasumi, anthony hirst, anne-marie treguier, and david webb. 2000. “de-\n",
      "velopments in ocean climate modelling.” ocean model. 2 (2000):123–92. http://www.\n",
      "sciencedirect.com/science/article/pii/s1463500300000147.\n",
      "\u001b[0m\n",
      "\u001b[31mjohnson, helen l., and david p. marshall.\n",
      "atlantic response to thermohaline variability.”\n",
      "http://dx.doi.org/10.1175/1520-0485(2002)032{\\%}3c1121:atftsa{\\%}3e2.0.co;2.\n",
      "\u001b[0m\n",
      "\u001b[32m“a theory for the surface\n",
      "oceanogr., 1121–32.\n",
      "\u001b[0m\n",
      "\u001b[32mj. phys.\n",
      "\u001b[0m\n",
      "\u001b[31m2002.\n",
      "\u001b[0m\n",
      "\u001b[31mstern, melvin e. 1998. “separation of a density current from the bottom of a con-\n",
      "tinental slope.” j. phys. oceanogr. 28 (10):2040–9. https://doi.org/10.1175/1520-\n",
      "0485(1998)028<2040:soadcf>2.0.co;2.\n",
      "\u001b[0m\n",
      "\u001b[31mstewart, k.d., a.mcc. hogg, s.m. griffies, a.p. heerdegen, m.l. ward, p. spence, and\n",
      "m.h. england. 2017. “vertical resolution of baroclinic modes in global ocean models.”\n",
      "ocean model. 113 (may). elsevier ltd:50–65. https://doi.org/10.1016/j.ocemod.2017.03.\n",
      "012.\n",
      "\u001b[0m\n",
      "\u001b[31mvallis, geoffrey k. 2006. atmospheric and oceanic fluid dynamics. cambridge, uk:\n",
      "cambridge university press.\n",
      "\u001b[0m\n",
      "\u001b[31mdoddridge et al., (2018). aronnax: an idealised isopycnal ocean model. journal of open source software, 3(26), 592.\n",
      "https://doi.org/10.21105/joss.00592\n",
      "\u001b[0m\n",
      "\u001b[31m2\n",
      "\u001b[0m\n"
     ]
    }
   ],
   "source": [
    "texts, arr = MakeGreenRedText(Paper_interest)"
   ]
  },
  {
   "cell_type": "code",
   "execution_count": 10,
   "id": "75dd9413-032a-4516-a015-5e088466d2d0",
   "metadata": {},
   "outputs": [],
   "source": [
    "texts = texts.replace('-\\\\n','')\n",
    "texts = texts.replace('-\\n','')\n",
    "texts = texts.replace('\\\\n',' ')\n",
    "texts = texts.replace('\\n', ' ')"
   ]
  },
  {
   "cell_type": "code",
   "execution_count": 11,
   "id": "d7d06fd7-23d7-4f28-bb41-4992c7727977",
   "metadata": {},
   "outputs": [
    {
     "data": {
      "text/plain": [
       "'Aronnax: An idealised isopycnal ocean model  Aronnax is a highly idealised model for simulating large-scale (100-1000km) flows in the ocean. Aronnax is intended for theoretical and empirical oceanographers, as a (relatively) fast and easy-to-use simulation model, bridging the gap between pencil-and-paper on one hand, and more faithful (and complex) computational models on the other. The numerical core is written in Fortran to improve performance, and wrapped in Python to improve usability.  Aronnax is an isopyncal model: it approximates the ocean as a number of discrete homogeneous layers with spatially variable thicknesses. These layers are stacked vertically and the density difference between neighbouring layers is specified by the user. Other widely used vertical coordinates require solving the equations of motion at specified vertical levels where the density is allowed to vary (S. M. Griffies et al. 2000). Representing the large-scale ocean circulation in layers contributes to Aronnax’s speed: one needs only a few layers to achieve the same fidelity as 50 or more fixed vertical levels (Stewart et al. 2017).  Aronnax serves three distinct purposes. Firstly, many of the studies that use a model like Aronnax do not provide the source code, see e.g. (Davis, Lique, and Johnson 2014, Février, Sirven, and Herbaut (2007), Johnson and Marshall (2002), Stern (1998)). This increases the likelihood that coding errors go undetected, and requires that each research group spend time developing their own idealised model. Aronnax solves these problems by providing an open source, tested model for the community to use. Secondly, Aronnax furthers the goals of scientific reproducibility since a simulation can be entirely specified with a set of input files and a version number. Thirdly, Aronnax provides an easy-to-use model that may be included in future modelling hierarchies with minimal effort, thereby enabling new research questions to be addressed.  There are a number of other publicly available ocean models. Of these the most abundant are general circulation models and quasigeostrophic models. General circulation models such as NEMO, GOLD, MOM6, and MITgcm solve a less idealised version of the NavierStokes equations and can be coupled with sea ice and atmospheric models to create fully coupled climate models. Because the underlying equations are derived with fewer approximations these models can more faithfully simulate a wider range of flow regimes. However, this comes at a price; general circulation models are extremely complex, with numerous free parameters that must be specified, often prior to compiling the source code. It is possible to use most of these models in idealised configurations, but doing so requires a substantial investment of time from the user, and non-trivial computing resources. In comparison, Aronnax is easy to install and cheap to run.  The other abundant class of models is quasigeostrophic models. Geostrophy is a balance between the Coriolis force and the horizontal gradient of the pressure field; flows in which the Coriolis force and the horizontal pressure gradient almost balance are known  as quasigeostrophic. Quasigeostrophic models of the ocean make use of this near balance and a number of other assumptions to simplify the equations of motion from a system of five coupled partial differential equations to a single partial differential equation (Vallis 2006). Quasigeostrophic models range in complexity from QGcm, which includes the option of a coupled atmosphere, to doubly periodic quasigeostrophic turbulence models such as PyQG and QGModel. While quasigeostrophic models are extremely useful, there are some problems for which they are ill-suited. For example, the adjustment of the ocean circulation often occurs through ageostrophic motions such as boundary waves (Johnson and Marshall 2002), which are not represented in quasigeostrophic models. In addition, quasigeostrophic models are limited in their representation of sloping bathymetry (depth of the sea floor). For these reasons it may be preferable to use an idealised non-linear model such as Aronnax.  Aronnax is MIT licensed and can be retrieved from GitHub at https://github.com/ edoddridge/aronnax.  “A theory for the surface Oceanogr., 1121–32.  J. Phys.  '"
      ]
     },
     "execution_count": 11,
     "metadata": {},
     "output_type": "execute_result"
    }
   ],
   "source": [
    "texts"
   ]
  },
  {
   "cell_type": "code",
   "execution_count": 19,
   "id": "524f371b-7985-4477-82ad-0ebac3dfdc7c",
   "metadata": {},
   "outputs": [
    {
     "data": {
      "text/plain": [
       "'Aronnax: An idealised isopycnal ocean model\\n'"
      ]
     },
     "execution_count": 19,
     "metadata": {},
     "output_type": "execute_result"
    }
   ],
   "source": [
    "str(arr[0])"
   ]
  },
  {
   "cell_type": "code",
   "execution_count": 14,
   "id": "64f6c297-680b-44df-b2b3-b0016b1ac0ee",
   "metadata": {},
   "outputs": [],
   "source": [
    "model = spacy.load('en_core_web_lg')"
   ]
  },
  {
   "cell_type": "code",
   "execution_count": 32,
   "id": "28ee929b-3da5-43cd-8497-acb2d86d9731",
   "metadata": {},
   "outputs": [],
   "source": [
    "reviewer_vectors = GetReviewer_Vectors()"
   ]
  },
  {
   "cell_type": "code",
   "execution_count": 25,
   "id": "05d672e9-5a98-4cd8-b02f-84e1324d9da2",
   "metadata": {},
   "outputs": [
    {
     "data": {
      "text/plain": [
       "6"
      ]
     },
     "execution_count": 25,
     "metadata": {},
     "output_type": "execute_result"
    }
   ],
   "source": [
    "len(arr[0].split())"
   ]
  },
  {
   "cell_type": "code",
   "execution_count": 56,
   "id": "494bc7a4-9fc2-4dc2-a045-311425c76acd",
   "metadata": {},
   "outputs": [],
   "source": [
    "def Get_Paper_Vector_Idea6_SpaCy(arr,model):\n",
    "    sum_vector_text = np.zeros((300))\n",
    "    count = 0\n",
    "    for J in range(len(arr)):\n",
    "        sum_line_vector_text = model(str(arr[J])).vector\n",
    "        counter = len(arr[J].split())\n",
    "        \n",
    "        average_line_vector_text = sum_line_vector_text/ counter\n",
    "        sum_vector_text = sum_vector_text + average_line_vector_text\n",
    "        count = count + 1\n",
    "        \n",
    "    average_vector_text = sum_vector_text / count\n",
    "    return average_vector_text"
   ]
  },
  {
   "cell_type": "code",
   "execution_count": 57,
   "id": "42aaedce-6f48-484f-8074-02fa6e3367c9",
   "metadata": {
    "tags": []
   },
   "outputs": [],
   "source": [
    "average_vector_text = Get_Paper_Vector_Idea6_SpaCy(arr,model)"
   ]
  },
  {
   "cell_type": "code",
   "execution_count": 58,
   "id": "46c29721-9ab1-4706-ba96-7de77647ca8a",
   "metadata": {
    "collapsed": true,
    "jupyter": {
     "outputs_hidden": true
    },
    "tags": []
   },
   "outputs": [
    {
     "data": {
      "text/plain": [
       "array([ 2.67286105e-03,  1.54858098e-02, -2.79282204e-03,  1.42601641e-04,\n",
       "       -2.91437718e-03,  1.10176613e-02,  1.04418883e-02, -4.73451464e-03,\n",
       "       -6.38419164e-03,  6.40118897e-02, -1.31636982e-02,  7.15007884e-03,\n",
       "        2.34565655e-02, -2.24208581e-03, -3.89240887e-03,  1.83498926e-02,\n",
       "        3.68017106e-03,  7.64348204e-02, -1.32752517e-02, -4.71564785e-03,\n",
       "        6.28664857e-03,  7.80864044e-03, -6.75044791e-03, -1.10325287e-03,\n",
       "        9.44254885e-03, -1.32788948e-03, -1.94291722e-02, -4.60908945e-03,\n",
       "        1.17336080e-02,  2.19284839e-02, -1.25826442e-02, -2.03626678e-03,\n",
       "       -2.29459177e-03,  9.24605106e-04,  5.65669409e-03, -7.62882633e-03,\n",
       "        2.15269558e-02,  2.14300754e-02,  4.81508979e-03,  5.26789954e-05,\n",
       "        6.79326617e-03, -3.81034196e-03,  6.73827692e-04, -8.37322395e-03,\n",
       "       -1.21220475e-02,  2.15867908e-03, -2.45128857e-03,  4.08916669e-03,\n",
       "        1.04492959e-03, -1.51285969e-03, -2.53387860e-03,  1.45647728e-03,\n",
       "        1.02658151e-02, -7.33620533e-03, -1.06877908e-02, -5.23659463e-03,\n",
       "       -9.05066383e-03,  1.09132486e-02,  3.21893072e-03, -1.40956055e-02,\n",
       "       -3.64765874e-03,  6.17676799e-03,  1.17419845e-02,  8.03054610e-03,\n",
       "        1.59262743e-03,  4.14249239e-03,  1.59056088e-03,  6.35624007e-03,\n",
       "       -4.14238619e-03,  1.21275556e-02, -1.28951699e-02, -9.47330937e-03,\n",
       "        3.28989775e-03, -4.37532737e-03,  3.78568697e-03,  2.88532535e-04,\n",
       "       -7.43853169e-03,  9.42065261e-03, -1.55525704e-02,  1.44918633e-02,\n",
       "       -4.84095030e-03, -3.02033762e-03, -7.72665131e-04,  1.57939934e-02,\n",
       "       -5.52243640e-04, -2.49772215e-02,  3.70337712e-02, -1.89625500e-02,\n",
       "       -2.67440784e-03,  5.47094878e-03, -7.90485540e-03, -2.59361502e-03,\n",
       "       -3.21667155e-03, -8.98835113e-03,  7.23671732e-03, -1.52432176e-02,\n",
       "        4.91112056e-03,  3.98205053e-03, -1.14246292e-02,  2.23404148e-03,\n",
       "       -4.61416792e-04,  9.04035415e-03, -4.66096060e-03, -4.95925563e-03,\n",
       "        4.75558882e-03, -4.21945381e-02,  1.11654035e-02, -1.70908754e-02,\n",
       "       -3.59063628e-03, -7.80376211e-03,  7.28579820e-03, -8.45266714e-03,\n",
       "        1.88808941e-04, -1.63352358e-02, -1.05789888e-02,  1.58674545e-04,\n",
       "       -1.90729209e-03, -7.70488405e-03, -3.23247558e-03, -1.11846059e-02,\n",
       "        1.61668655e-03,  2.38593036e-03, -2.39885337e-03,  6.88126656e-03,\n",
       "       -1.74458491e-02,  2.01448715e-02, -4.40378953e-03, -3.57620908e-03,\n",
       "        1.03417642e-02, -1.21221733e-03, -1.02716038e-02, -2.96825969e-03,\n",
       "       -7.81016994e-03, -6.71251763e-03, -7.70964469e-03,  1.51823566e-02,\n",
       "        3.27593363e-03, -1.41486725e-03, -3.35225327e-03, -7.02254558e-03,\n",
       "       -4.36424148e-02,  4.96717705e-03, -4.28143656e-03,  7.45457637e-03,\n",
       "        5.16711159e-03,  7.59843213e-03,  6.76972671e-03,  6.65631532e-03,\n",
       "       -1.18763050e-02, -1.08411937e-02, -6.09574157e-03, -1.31649783e-03,\n",
       "        2.18808627e-03,  9.03649339e-03, -3.62690685e-03, -1.33895997e-03,\n",
       "       -1.05852053e-03, -6.03028173e-03,  1.79377611e-02, -2.47636616e-03,\n",
       "        1.49760867e-02, -5.90506040e-03, -9.38243646e-04, -1.29714450e-03,\n",
       "       -3.27222941e-03, -6.78894405e-03,  1.40991892e-03, -5.20555706e-03,\n",
       "        1.81447831e-02,  2.40156379e-03, -2.98085059e-03, -1.28828002e-03,\n",
       "        6.88426610e-03, -8.54605636e-03,  6.87779908e-03,  2.35902033e-03,\n",
       "       -4.97594016e-03, -1.88918980e-03, -8.64141887e-03, -7.47425554e-03,\n",
       "        6.20087766e-03,  1.39688549e-03, -2.61021250e-03, -7.53921576e-03,\n",
       "       -7.82985956e-03,  7.97503544e-03,  5.74384549e-03,  1.02873119e-02,\n",
       "        5.86103747e-03, -7.15910313e-03, -9.26504939e-04, -7.00805550e-03,\n",
       "        4.16688850e-03, -3.02367675e-04,  1.50266799e-02,  8.99925516e-03,\n",
       "        7.24722098e-03, -2.12237552e-02,  1.47272501e-02,  4.75694000e-03,\n",
       "       -9.14894799e-03,  1.31580691e-03,  6.91194633e-03,  1.27612997e-02,\n",
       "       -1.24904696e-03, -3.85516623e-03, -2.96090241e-03,  2.07099684e-03,\n",
       "       -7.04989226e-03, -2.03153597e-03, -3.83742538e-03,  1.18084758e-02,\n",
       "        1.01671918e-02, -6.85166502e-03,  8.07460010e-03, -5.19911368e-03,\n",
       "        1.83975604e-03,  1.33015725e-02, -1.29689238e-03,  5.00751646e-03,\n",
       "       -1.75618180e-03,  2.83953688e-03, -7.44287729e-03,  2.81219618e-03,\n",
       "       -6.36135984e-03, -3.95466347e-03, -2.08200741e-02,  1.33603243e-03,\n",
       "        6.44005061e-03, -1.93288454e-03, -1.05426059e-03, -1.66647330e-02,\n",
       "        8.70776724e-03,  3.90907438e-03, -8.37487734e-03,  8.81871139e-04,\n",
       "       -5.49751150e-03, -1.40283752e-05, -1.08587819e-02,  3.72606535e-03,\n",
       "       -8.14814679e-03,  1.30491271e-03, -5.72528164e-03,  1.72706525e-02,\n",
       "        3.27984012e-03, -5.46504671e-03, -1.00742609e-02, -3.57470615e-04,\n",
       "       -5.50843051e-03, -5.12028713e-03,  8.73900367e-03,  3.23579972e-03,\n",
       "       -6.75846912e-03, -3.03632437e-03,  6.66830493e-03, -1.58656488e-03,\n",
       "        8.11519186e-03, -1.06923458e-02,  1.74697285e-03, -1.02150778e-02,\n",
       "       -3.39830513e-03,  1.71832608e-02,  8.67411948e-03, -2.84724466e-03,\n",
       "       -9.87786005e-04, -1.07700449e-02, -3.27126669e-03, -2.88031011e-03,\n",
       "        8.89975182e-03, -5.69608322e-04, -2.65855227e-02,  4.05523540e-03,\n",
       "        2.10408640e-03,  2.17966181e-03, -1.22693643e-02,  1.39194540e-03,\n",
       "        1.27156595e-03, -5.61849938e-03, -9.77215817e-03,  9.91912525e-03,\n",
       "        1.37425230e-02, -1.30162631e-02,  2.16187218e-03, -9.33624936e-03,\n",
       "       -8.18811985e-03, -9.96138693e-03,  1.26673734e-03, -7.10838328e-03,\n",
       "       -2.56859766e-03,  5.38177635e-03,  1.34493521e-02, -4.97646114e-03,\n",
       "       -4.92190827e-03, -4.81723864e-03, -4.92447682e-03, -5.34987265e-03,\n",
       "        4.63482321e-03, -5.14951077e-03, -1.56323436e-02, -2.26885094e-03])"
      ]
     },
     "execution_count": 58,
     "metadata": {},
     "output_type": "execute_result"
    }
   ],
   "source": [
    "average_vector_text"
   ]
  },
  {
   "cell_type": "code",
   "execution_count": 59,
   "id": "c8dc96f4-231b-4aac-8b48-8c52b6687b23",
   "metadata": {},
   "outputs": [],
   "source": [
    "from sklearn.metrics.pairwise import cosine_similarity\n",
    "all_usernames, all_domains, all_cosine_sims = GetCosineSims(average_vector_text, reviewer_vectors)"
   ]
  },
  {
   "cell_type": "code",
   "execution_count": 60,
   "id": "cb0777bb-fb59-4c41-93e9-e8a15fc97ccb",
   "metadata": {},
   "outputs": [],
   "source": [
    "def TopReviewers(number=5, all_usernames=all_usernames, all_domains=all_domains, all_cosine_sims=all_cosine_sims):\n",
    "    message = 'Hello.\\n I have found ' +str(number) + ' possible reviewers for this paper.'+ '\\n\\n'\n",
    "    for J in range(number):\n",
    "        index = np.argsort(all_cosine_sims)[-1-J]\n",
    "        #print(index)\n",
    "        ps = 'I believe '+ colored(str(all_usernames[index]), 'green') + ' will be a good reviewer for this paper. Their domain interests and this paper have a cosine similairity score of ' + colored(str(all_cosine_sims[index])[:6], 'blue') + '. This reviewers domain interests are ' + colored(str(all_domains[index].replace('\\n', ',')), 'red')\n",
    "        message = message + ps + '\\n\\n'\n",
    "    print(message)    "
   ]
  },
  {
   "cell_type": "code",
   "execution_count": 61,
   "id": "2cbdbc6a-1a5f-434c-8e83-b7b607ac4969",
   "metadata": {},
   "outputs": [
    {
     "name": "stdout",
     "output_type": "stream",
     "text": [
      "Hello.\n",
      " I have found 5 possible reviewers for this paper.\n",
      "\n",
      "I believe \u001b[32mrchew\u001b[0m will be a good reviewer for this paper. Their domain interests and this paper have a cosine similairity score of \u001b[34m0.6283\u001b[0m. This reviewers domain interests are \u001b[31mr/stats, social sciences\u001b[0m\n",
      "\n",
      "I believe \u001b[32msptennak\u001b[0m will be a good reviewer for this paper. Their domain interests and this paper have a cosine similairity score of \u001b[34m0.6237\u001b[0m. This reviewers domain interests are \u001b[31mdata science, machine learning, deep learning, physics, materials science, signal processing, mineral physics\u001b[0m\n",
      "\n",
      "I believe \u001b[32mjosiahparry\u001b[0m will be a good reviewer for this paper. Their domain interests and this paper have a cosine similairity score of \u001b[34m0.6196\u001b[0m. This reviewers domain interests are \u001b[31mweb scraping, apis, sociology, political science, social science, urban studies, open data, data packages, general purpose r work\u001b[0m\n",
      "\n",
      "I believe \u001b[32mRDastgh1\u001b[0m will be a good reviewer for this paper. Their domain interests and this paper have a cosine similairity score of \u001b[34m0.6079\u001b[0m. This reviewers domain interests are \u001b[31mgui design, neuroscience, wet lab image analysis, fluorescence imaging, statistics, health science, data mining, machine learning\u001b[0m\n",
      "\n",
      "I believe \u001b[32mFranciscoReveriano\u001b[0m will be a good reviewer for this paper. Their domain interests and this paper have a cosine similairity score of \u001b[34m0.6045\u001b[0m. This reviewers domain interests are \u001b[31mdeep learning, ai, data science, risk, financial risk, model development, machine learning\u001b[0m\n",
      "\n",
      "\n"
     ]
    }
   ],
   "source": [
    "TopReviewers()"
   ]
  },
  {
   "cell_type": "code",
   "execution_count": 62,
   "id": "db10d7cd-cb7d-4e70-b081-3b64d5929d7a",
   "metadata": {},
   "outputs": [],
   "source": [
    "def Idea6_lemma_Text(arr):\n",
    "    text_list = []\n",
    "    for J in range(len(arr)):\n",
    "        doc = model(str(arr[J]))\n",
    "        \n",
    "        doc_arr = []\n",
    "        for token in doc:\n",
    "            if token.is_alpha == True:\n",
    "                if token.is_stop == False:\n",
    "                    doc_arr.append(str(token.lemma_).lower())\n",
    "        doc_arr = np.array(doc_arr)\n",
    "        \n",
    "        doc_arr_mod = ''\n",
    "        for i in doc_arr:\n",
    "            doc_arr_mod = doc_arr_mod + i +' '\n",
    "        #print(doc_arr_mod)\n",
    "        text_list.append(doc_arr_mod)\n",
    "    return text_list"
   ]
  },
  {
   "cell_type": "code",
   "execution_count": 63,
   "id": "44cc265e-16d8-4ca3-aa5f-8e9bed155ddc",
   "metadata": {},
   "outputs": [],
   "source": [
    "text_list_lemma = Idea6_lemma_Text(arr)"
   ]
  },
  {
   "cell_type": "code",
   "execution_count": 64,
   "id": "f7d8cd34-64fc-4748-aa86-403075e9df48",
   "metadata": {},
   "outputs": [],
   "source": [
    "average_vector_text2 = Get_Paper_Vector_Idea6_SpaCy(text_list_lemma,model)"
   ]
  },
  {
   "cell_type": "code",
   "execution_count": 65,
   "id": "f0dcae7c-03fb-4d53-a916-1f8fc7a17da5",
   "metadata": {},
   "outputs": [],
   "source": [
    "all_usernames2, all_domains2, all_cosine_sims2 = GetCosineSims(average_vector_text2, reviewer_vectors)"
   ]
  },
  {
   "cell_type": "code",
   "execution_count": 66,
   "id": "655ac353-ae8c-478b-8b19-5fa1fd314192",
   "metadata": {},
   "outputs": [
    {
     "name": "stdout",
     "output_type": "stream",
     "text": [
      "Hello.\n",
      " I have found 5 possible reviewers for this paper.\n",
      "\n",
      "I believe \u001b[32mnicoguaro\u001b[0m will be a good reviewer for this paper. Their domain interests and this paper have a cosine similairity score of \u001b[34m0.5560\u001b[0m. This reviewers domain interests are \u001b[31mphysics, math\u001b[0m\n",
      "\n",
      "I believe \u001b[32misabel-campos-plasencia\u001b[0m will be a good reviewer for this paper. Their domain interests and this paper have a cosine similairity score of \u001b[34m0.5446\u001b[0m. This reviewers domain interests are \u001b[31mphysics, biology, mathematics\u001b[0m\n",
      "\n",
      "I believe \u001b[32mjmborr\u001b[0m will be a good reviewer for this paper. Their domain interests and this paper have a cosine similairity score of \u001b[34m0.5331\u001b[0m. This reviewers domain interests are \u001b[31mneutron science, biophysics, physical chemistry, physics\u001b[0m\n",
      "\n",
      "I believe \u001b[32mvahtras\u001b[0m will be a good reviewer for this paper. Their domain interests and this paper have a cosine similairity score of \u001b[34m0.5285\u001b[0m. This reviewers domain interests are \u001b[31mchemistry, physics\u001b[0m\n",
      "\n",
      "I believe \u001b[32mkpeeters\u001b[0m will be a good reviewer for this paper. Their domain interests and this paper have a cosine similairity score of \u001b[34m0.5260\u001b[0m. This reviewers domain interests are \u001b[31mphysics, maths, computer algebra\u001b[0m\n",
      "\n",
      "\n"
     ]
    }
   ],
   "source": [
    "TopReviewers(5, all_usernames2, all_domains2, all_cosine_sims2)"
   ]
  },
  {
   "cell_type": "code",
   "execution_count": 67,
   "id": "cb33c107-f3bb-46cb-8a42-52f5ab860ff2",
   "metadata": {},
   "outputs": [],
   "source": [
    "def Idea6_unique_lemma_Text(arr):\n",
    "    text_list = []\n",
    "    for J in range(len(arr)):\n",
    "        doc = model(str(arr[J]))\n",
    "        \n",
    "        doc_arr = []\n",
    "        for token in doc:\n",
    "            if token.is_alpha == True:\n",
    "                if token.is_stop == False:\n",
    "                    doc_arr.append(str(token.lemma_).lower())\n",
    "        doc_arr = np.array(doc_arr)\n",
    "        doc_str = ''\n",
    "        for i in np.unique(doc_arr):\n",
    "            doc_str = doc_str + i +' '\n",
    "        text_list.append(doc_str)\n",
    "    return text_list"
   ]
  },
  {
   "cell_type": "code",
   "execution_count": 68,
   "id": "4d357024-993c-4b58-ae86-b6d137cd70df",
   "metadata": {},
   "outputs": [],
   "source": [
    "text_list_unique_lemma = Idea6_unique_lemma_Text(arr)"
   ]
  },
  {
   "cell_type": "code",
   "execution_count": 69,
   "id": "d5aece8d-0bf9-48e2-bd02-1bbad6b38c54",
   "metadata": {},
   "outputs": [],
   "source": [
    "average_vector_text3 = Get_Paper_Vector_Idea6_SpaCy(text_list_unique_lemma,model)"
   ]
  },
  {
   "cell_type": "code",
   "execution_count": 70,
   "id": "ed5744c3-1324-413e-99f3-472774fdd59d",
   "metadata": {},
   "outputs": [],
   "source": [
    "all_usernames3, all_domains3, all_cosine_sims3 = GetCosineSims(average_vector_text3, reviewer_vectors)"
   ]
  },
  {
   "cell_type": "code",
   "execution_count": 71,
   "id": "b0cb00ec-c35b-4133-8431-407cea086d73",
   "metadata": {},
   "outputs": [
    {
     "name": "stdout",
     "output_type": "stream",
     "text": [
      "Hello.\n",
      " I have found 5 possible reviewers for this paper.\n",
      "\n",
      "I believe \u001b[32mnicoguaro\u001b[0m will be a good reviewer for this paper. Their domain interests and this paper have a cosine similairity score of \u001b[34m0.5613\u001b[0m. This reviewers domain interests are \u001b[31mphysics, math\u001b[0m\n",
      "\n",
      "I believe \u001b[32misabel-campos-plasencia\u001b[0m will be a good reviewer for this paper. Their domain interests and this paper have a cosine similairity score of \u001b[34m0.5482\u001b[0m. This reviewers domain interests are \u001b[31mphysics, biology, mathematics\u001b[0m\n",
      "\n",
      "I believe \u001b[32mjmborr\u001b[0m will be a good reviewer for this paper. Their domain interests and this paper have a cosine similairity score of \u001b[34m0.5414\u001b[0m. This reviewers domain interests are \u001b[31mneutron science, biophysics, physical chemistry, physics\u001b[0m\n",
      "\n",
      "I believe \u001b[32mkpeeters\u001b[0m will be a good reviewer for this paper. Their domain interests and this paper have a cosine similairity score of \u001b[34m0.5338\u001b[0m. This reviewers domain interests are \u001b[31mphysics, maths, computer algebra\u001b[0m\n",
      "\n",
      "I believe \u001b[32mvahtras\u001b[0m will be a good reviewer for this paper. Their domain interests and this paper have a cosine similairity score of \u001b[34m0.5332\u001b[0m. This reviewers domain interests are \u001b[31mchemistry, physics\u001b[0m\n",
      "\n",
      "\n"
     ]
    }
   ],
   "source": [
    "TopReviewers(5,all_usernames3, all_domains3, all_cosine_sims3)"
   ]
  },
  {
   "cell_type": "code",
   "execution_count": null,
   "id": "5f179f65-839b-4804-8e63-918f84e3377c",
   "metadata": {},
   "outputs": [],
   "source": []
  },
  {
   "cell_type": "code",
   "execution_count": null,
   "id": "2e9de90a-50ed-4ef7-ba0b-814cb0c0e3e5",
   "metadata": {},
   "outputs": [],
   "source": []
  },
  {
   "cell_type": "code",
   "execution_count": null,
   "id": "5e4218d4-05a1-4269-b5fc-4ff09ba4c1ab",
   "metadata": {},
   "outputs": [],
   "source": []
  },
  {
   "cell_type": "code",
   "execution_count": null,
   "id": "f14a49b0-0483-4178-a278-decb6bb90273",
   "metadata": {},
   "outputs": [],
   "source": []
  }
 ],
 "metadata": {
  "kernelspec": {
   "display_name": "Python 3",
   "language": "python",
   "name": "python3"
  },
  "language_info": {
   "codemirror_mode": {
    "name": "ipython",
    "version": 3
   },
   "file_extension": ".py",
   "mimetype": "text/x-python",
   "name": "python",
   "nbconvert_exporter": "python",
   "pygments_lexer": "ipython3",
   "version": "3.9.9"
  }
 },
 "nbformat": 4,
 "nbformat_minor": 5
}
