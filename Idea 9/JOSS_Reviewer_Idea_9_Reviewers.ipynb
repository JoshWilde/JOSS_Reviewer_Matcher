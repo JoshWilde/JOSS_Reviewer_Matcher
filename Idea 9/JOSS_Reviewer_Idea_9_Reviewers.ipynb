{
 "cells": [
  {
   "cell_type": "code",
   "execution_count": 1,
   "id": "d4f9c43d-e250-46ae-8be7-a01f7d95f3d8",
   "metadata": {},
   "outputs": [],
   "source": [
    "from sense2vec import Sense2Vec\n",
    "import re \n",
    "from termcolor import colored\n",
    "from JOSS_PDF_Cleaner import Clean_PDF"
   ]
  },
  {
   "cell_type": "code",
   "execution_count": 2,
   "id": "7b746244-7988-40fe-b9c6-5861ce67df9c",
   "metadata": {},
   "outputs": [],
   "source": [
    "import gensim\n",
    "from gensim import utils\n",
    "import numpy as np\n",
    "import sys\n",
    "from sklearn.datasets import fetch_20newsgroups\n",
    "from nltk import word_tokenize\n",
    "from nltk import download\n",
    "from nltk.corpus import stopwords\n",
    "import matplotlib.pyplot as plt\n",
    "from sklearn.decomposition import PCA\n",
    "%matplotlib inline\n",
    "import spacy"
   ]
  },
  {
   "cell_type": "code",
   "execution_count": 3,
   "id": "93c847ae-6de8-4b75-8bd2-46fa86b69394",
   "metadata": {},
   "outputs": [
    {
     "name": "stderr",
     "output_type": "stream",
     "text": [
      "[nltk_data] Downloading package stopwords to\n",
      "[nltk_data]     /Users/sunilmcesh/nltk_data...\n",
      "[nltk_data]   Package stopwords is already up-to-date!\n",
      "[nltk_data] Downloading package punkt to\n",
      "[nltk_data]     /Users/sunilmcesh/nltk_data...\n",
      "[nltk_data]   Package punkt is already up-to-date!\n",
      "[nltk_data] Downloading package wordnet to\n",
      "[nltk_data]     /Users/sunilmcesh/nltk_data...\n",
      "[nltk_data]   Package wordnet is already up-to-date!\n"
     ]
    }
   ],
   "source": [
    "import numpy as np\n",
    "import matplotlib.pyplot as plt\n",
    "import pandas as pd\n",
    "import glob\n",
    "import string\n",
    "import glob\n",
    "from tqdm import tqdm \n",
    "#import pdfminer\n",
    "from pdfminer.high_level import extract_text\n",
    "import pandas as pd\n",
    "from sklearn.feature_extraction.text import TfidfVectorizer\n",
    "import nltk \n",
    "nltk.download('stopwords')\n",
    "import numpy as np\n",
    "from sklearn.pipeline import Pipeline\n",
    "from sklearn.feature_extraction.text import TfidfTransformer\n",
    "from sklearn.feature_extraction.text import CountVectorizer\n",
    "import nltk\n",
    "nltk.download('punkt')\n",
    "from nltk import sent_tokenize\n",
    "from nltk import word_tokenize\n",
    "from nltk.corpus import stopwords\n",
    "from nltk.stem import WordNetLemmatizer\n",
    "nltk.download('wordnet')\n",
    "from nltk.probability import FreqDist"
   ]
  },
  {
   "cell_type": "code",
   "execution_count": 4,
   "id": "8224e7bd-e72d-4d93-8c12-a027bb30c580",
   "metadata": {},
   "outputs": [],
   "source": [
    "s2v = Sense2Vec().from_disk(\"../../s2v_old\")"
   ]
  },
  {
   "cell_type": "code",
   "execution_count": 6,
   "id": "b8ff0c8a-4d3b-47d5-9863-b7dc5f17f726",
   "metadata": {},
   "outputs": [
    {
     "name": "stdout",
     "output_type": "stream",
     "text": [
      "/Volumes/Seagate Backup Plus Drive/JOSS Project/joss-papers-master/joss-papers-master/joss.00011/10.21105.joss.00011.pdf\n"
     ]
    }
   ],
   "source": [
    "Q = 0\n",
    "PAPER_OF_INTEREST_FNAME  = glob.glob('/Volumes/Seagate Backup Plus Drive/JOSS Project/joss-papers-master/*/*/*.pdf')\n",
    "print(PAPER_OF_INTEREST_FNAME[Q])"
   ]
  },
  {
   "cell_type": "code",
   "execution_count": 7,
   "id": "e7616cbc-f61b-495d-aada-cddab2bec503",
   "metadata": {},
   "outputs": [],
   "source": [
    "Paper_interest = PAPER_OF_INTEREST_FNAME[Q]"
   ]
  },
  {
   "cell_type": "code",
   "execution_count": 8,
   "id": "f16e5b49-744f-479c-aa71-d28ec0a87219",
   "metadata": {},
   "outputs": [
    {
     "name": "stdout",
     "output_type": "stream",
     "text": [
      "\u001b[32mcarl: a likelihood-free inference toolbox\n",
      "\u001b[0m\n",
      "\u001b[31mgilles louppe1, kyle cranmer1, and juan pavez2\n",
      "\u001b[0m\n",
      "\u001b[31mdoi: 10.21105/joss.00011\n",
      "\u001b[0m\n",
      "\u001b[31m1 new york university 2 federico santa maría university\n",
      "\u001b[0m\n",
      "\u001b[31msummary\n",
      "\u001b[0m\n",
      "\u001b[31msoftware\n",
      "\u001b[0m\n",
      "\u001b[31m• review\n",
      "• repository\n",
      "• archive\n",
      "\u001b[0m\n",
      "\u001b[31mlicence\n",
      "authors of joss papers retain\n",
      "copyright and release the work un-\n",
      "der a creative commons attri-\n",
      "bution 4.0 international license\n",
      "(cc-by).\n",
      "\u001b[0m\n",
      "\u001b[32mcarl is a toolbox for likelihood-free inference in python.\n",
      "\u001b[0m\n",
      "\u001b[32mthe likelihood function is the central object that summarizes the information from an\n",
      "experiment needed for inference of model parameters. it is key to many areas of science\n",
      "that report the results of classical hypothesis tests or confidence intervals using the (gen-\n",
      "eralized or profile) likelihood ratio as a test statistic. at the same time, with the advance\n",
      "of computing technology, it has become increasingly common that a simulator (or gener-\n",
      "ative model) is used to describe complex processes that tie parameters of an underlying\n",
      "theory and measurement apparatus to high-dimensional observations. however, directly\n",
      "evaluating the likelihood function in these cases is often impossible or is computationally\n",
      "impractical.\n",
      "\u001b[0m\n",
      "\u001b[32min this context, the goal of this package is to provide tools for the likelihood-free setup,\n",
      "including likelihood (or density) ratio estimation algorithms, along with helpers to carry\n",
      "out inference on top of these.\n",
      "\u001b[0m\n",
      "\u001b[32mapproximating likelihood ratios with calibrated classifiers\n",
      "\u001b[0m\n",
      "\u001b[32mmethodological details regarding likelihood-free inference with calibrated classifiers can\n",
      "be found in the companion paper (cranmer, pavez, and louppe 2016).\n",
      "\u001b[0m\n",
      "\u001b[32mfuture development aims at providing further density ratio estimation algorithms, along\n",
      "with alternative algorithms for the likelihood-free setup, such as approximate bayesian\n",
      "computation (abc).\n",
      "\u001b[0m\n",
      "\u001b[31mfuture works\n",
      "\u001b[0m\n",
      "\u001b[31mreferences\n",
      "\u001b[0m\n",
      "\u001b[31mcranmer, kyle, juan pavez, and gilles louppe. 2016. “approximating likelihood ratios\n",
      "with calibrated discriminative classifiers,” march. http://arxiv.org/abs/1506.02169v2.\n",
      "\u001b[0m\n",
      "\u001b[31mlouppe et al., (2016). carl: a likelihood-free inference toolbox. journal of open source software, 1(1), 11, doi:10.21105/joss.00011\n",
      "\u001b[0m\n",
      "\u001b[31m1\n",
      "\u001b[0m\n"
     ]
    }
   ],
   "source": [
    "text = ''\n",
    "arr = []\n",
    "from pdfminer.high_level import extract_pages\n",
    "from pdfminer.layout import LTTextContainer\n",
    "for page_layout in extract_pages(Paper_interest):\n",
    "    for element in page_layout:\n",
    "        if isinstance(element, LTTextContainer):\n",
    "            score = Clean_PDF(element.get_text().lower())\n",
    "            #print(score)\n",
    "            if score == 0:\n",
    "                print(colored(element.get_text().lower(), 'green'))\n",
    "                arr.append(element.get_text())\n",
    "                text = text  + element.get_text() + ' '\n",
    "            else:\n",
    "                print(colored(element.get_text().lower(), 'red'))\n",
    "            #arr.append(element.get_text())\n",
    "                #text = text  + element.get_text() + ' '\n",
    "#arr = np.array(arr)"
   ]
  },
  {
   "cell_type": "code",
   "execution_count": 9,
   "id": "37c1b67f-f975-42d9-8628-6e50c7bc3378",
   "metadata": {},
   "outputs": [
    {
     "data": {
      "text/plain": [
       "'carl: a likelihood-free inference toolbox\\n Carl is a toolbox for likelihood-free inference in Python.\\n The likelihood function is the central object that summarizes the information from an\\nexperiment needed for inference of model parameters. It is key to many areas of science\\nthat report the results of classical hypothesis tests or confidence intervals using the (gen-\\neralized or profile) likelihood ratio as a test statistic. At the same time, with the advance\\nof computing technology, it has become increasingly common that a simulator (or gener-\\native model) is used to describe complex processes that tie parameters of an underlying\\ntheory and measurement apparatus to high-dimensional observations. However, directly\\nevaluating the likelihood function in these cases is often impossible or is computationally\\nimpractical.\\n In this context, the goal of this package is to provide tools for the likelihood-free setup,\\nincluding likelihood (or density) ratio estimation algorithms, along with helpers to carry\\nout inference on top of these.\\n Approximating likelihood ratios with calibrated classifiers\\n Methodological details regarding likelihood-free inference with calibrated classifiers can\\nbe found in the companion paper (Cranmer, Pavez, and Louppe 2016).\\n Future development aims at providing further density ratio estimation algorithms, along\\nwith alternative algorithms for the likelihood-free setup, such as Approximate Bayesian\\nComputation (ABC).\\n '"
      ]
     },
     "execution_count": 9,
     "metadata": {},
     "output_type": "execute_result"
    }
   ],
   "source": [
    "text"
   ]
  },
  {
   "cell_type": "code",
   "execution_count": 10,
   "id": "707287a2-7f71-4913-9fde-62d028b792a2",
   "metadata": {},
   "outputs": [],
   "source": [
    "text = text.replace('-\\\\n','')\n",
    "text = text.replace('\\\\n',' ')\n",
    "text = text.replace('\\n',' ')"
   ]
  },
  {
   "cell_type": "code",
   "execution_count": 11,
   "id": "36e2f5ec-abbd-4f5b-9f7d-b2ebadad961b",
   "metadata": {},
   "outputs": [
    {
     "data": {
      "text/plain": [
       "'carl: a likelihood-free inference toolbox  Carl is a toolbox for likelihood-free inference in Python.  The likelihood function is the central object that summarizes the information from an experiment needed for inference of model parameters. It is key to many areas of science that report the results of classical hypothesis tests or confidence intervals using the (gen- eralized or profile) likelihood ratio as a test statistic. At the same time, with the advance of computing technology, it has become increasingly common that a simulator (or gener- ative model) is used to describe complex processes that tie parameters of an underlying theory and measurement apparatus to high-dimensional observations. However, directly evaluating the likelihood function in these cases is often impossible or is computationally impractical.  In this context, the goal of this package is to provide tools for the likelihood-free setup, including likelihood (or density) ratio estimation algorithms, along with helpers to carry out inference on top of these.  Approximating likelihood ratios with calibrated classifiers  Methodological details regarding likelihood-free inference with calibrated classifiers can be found in the companion paper (Cranmer, Pavez, and Louppe 2016).  Future development aims at providing further density ratio estimation algorithms, along with alternative algorithms for the likelihood-free setup, such as Approximate Bayesian Computation (ABC).  '"
      ]
     },
     "execution_count": 11,
     "metadata": {},
     "output_type": "execute_result"
    }
   ],
   "source": [
    "text"
   ]
  },
  {
   "cell_type": "code",
   "execution_count": 12,
   "id": "811b0ebe-a62c-488c-a2ab-92874b958261",
   "metadata": {},
   "outputs": [],
   "source": [
    "model = spacy.load('en_core_web_lg')"
   ]
  },
  {
   "cell_type": "code",
   "execution_count": 13,
   "id": "0e3a746b-85e5-4a77-a0ca-923a7c5fa759",
   "metadata": {},
   "outputs": [],
   "source": [
    "doc = model(text)"
   ]
  },
  {
   "cell_type": "code",
   "execution_count": 14,
   "id": "de608c9d-f8a2-47cf-ba8a-bba8ff6eb240",
   "metadata": {},
   "outputs": [],
   "source": [
    "doc_arr = []\n",
    "pos_arr = []\n",
    "tag_arr = []\n",
    "dep_arr = []\n",
    "for token in doc:\n",
    "    if token.is_alpha == True:\n",
    "        if token.is_stop == False:\n",
    "            doc_arr.append(str(token.lemma_).lower())\n",
    "            pos_arr.append(str(token.pos_))\n",
    "            tag_arr.append(str(token.tag_))\n",
    "            dep_arr.append(str(token.dep_))\n",
    "            \n",
    "doc_arr = np.array(doc_arr)\n",
    "pos_arr = np.array(pos_arr)\n",
    "tag_arr = np.array(tag_arr)\n",
    "dep_arr = np.array(dep_arr)"
   ]
  },
  {
   "cell_type": "code",
   "execution_count": 15,
   "id": "2a730ac3-be74-4fa5-90ab-be2f6cc53467",
   "metadata": {},
   "outputs": [],
   "source": [
    "word_vec = np.zeros((128))\n",
    "counter = 0\n",
    "for P in range(len(doc_arr)):\n",
    "    best = s2v.get_best_sense(doc_arr[P])\n",
    "    if best != None:\n",
    "        vector = s2v[best]\n",
    "        word_vec = word_vec + vector\n",
    "        counter = counter + 1\n",
    "average_word_vec = word_vec / counter"
   ]
  },
  {
   "cell_type": "code",
   "execution_count": 16,
   "id": "cd976848-fdaa-404e-b431-2938d1c3fef9",
   "metadata": {
    "tags": []
   },
   "outputs": [
    {
     "data": {
      "text/plain": [
       "array([ 9.55035150e-02,  1.15096331e-01, -2.08605383e-01,  2.49549811e-02,\n",
       "       -1.63957822e-01, -1.82500976e-01,  3.54724237e-01,  7.59333492e-03,\n",
       "       -2.48715675e-01, -1.29130119e-01,  9.04052620e-02, -1.96562017e-02,\n",
       "       -1.06887785e-01,  1.67335286e-01,  5.94552689e-02, -1.73927741e-01,\n",
       "        1.01058351e-01,  1.18059406e-01,  1.68743259e-01, -1.16475592e-01,\n",
       "        3.31682169e-02,  9.56777588e-02,  6.33247315e-02, -2.84642323e-02,\n",
       "       -3.08546942e-02,  3.01342631e-02, -4.12084146e-02, -7.47804250e-03,\n",
       "       -7.09591153e-02,  5.45698228e-02,  1.59326689e-01, -1.17143740e-01,\n",
       "        4.34543131e-02,  7.56359400e-02, -9.59226468e-02, -2.25565155e-01,\n",
       "        5.10381894e-02,  3.24805607e-02, -1.06193912e-02, -2.48768986e-01,\n",
       "        4.65245815e-02,  1.55282108e-01, -1.21930094e-03, -7.17324917e-02,\n",
       "        4.36696426e-02,  1.15326463e-02, -3.67834128e-02, -1.76593735e-01,\n",
       "        6.75176867e-02,  2.11209233e-02,  1.35142540e-01, -1.28322116e-01,\n",
       "       -6.06392667e-02,  7.94088615e-02, -2.03138712e-01,  3.63751531e-02,\n",
       "        2.43109987e-01,  8.39793396e-02,  1.39078430e-01, -1.79788477e-04,\n",
       "        2.01115594e-02,  4.28525180e-03,  3.64241755e-02,  5.84547773e-02,\n",
       "       -1.75278435e-01, -1.09755468e-01, -6.93003075e-02, -1.22447644e-01,\n",
       "       -4.48705068e-02, -1.45680933e-01,  8.35946154e-02, -8.25395203e-02,\n",
       "        1.52729420e-01, -4.83657369e-02,  1.68923267e-01, -1.12595358e-01,\n",
       "       -7.15192844e-02, -8.18869101e-02,  1.76219856e-01,  1.87042197e-01,\n",
       "       -2.12030321e-01, -6.71912010e-02, -1.17022867e-01, -1.50979374e-01,\n",
       "       -6.66642648e-02, -9.13902530e-02, -3.87035155e-02,  1.15915811e-01,\n",
       "        1.58593541e-01, -8.44806622e-02,  2.93956778e-01, -3.40997325e-01,\n",
       "        6.90735601e-02,  1.40914126e-01,  3.74966874e-02,  6.79786831e-02,\n",
       "       -1.75262695e-02, -3.03537340e-02, -4.80065459e-02,  9.40600290e-03,\n",
       "        9.03737119e-02, -1.17992231e-01,  3.12285330e-02, -1.57927635e-01,\n",
       "        1.19087396e-01,  4.38428184e-01,  1.79741147e-01,  1.21901020e-01,\n",
       "       -9.96932026e-02,  1.63675397e-01, -1.14552108e-01,  3.81908563e-02,\n",
       "       -4.20511828e-02,  1.52483178e-01, -7.45718667e-02, -1.51542867e-01,\n",
       "        2.97868908e-01, -9.46362488e-02,  9.00358355e-02,  2.72167369e-01,\n",
       "        3.43474404e-01, -5.28707174e-02, -5.57154015e-03, -1.41729465e-01,\n",
       "       -1.25432119e-01, -1.31353319e-01,  2.64001263e-01,  1.16198254e-01])"
      ]
     },
     "execution_count": 16,
     "metadata": {},
     "output_type": "execute_result"
    }
   ],
   "source": [
    "average_word_vec"
   ]
  },
  {
   "cell_type": "code",
   "execution_count": 22,
   "id": "ef7bc007-5bf9-4fc8-99b2-da41bc7446a8",
   "metadata": {},
   "outputs": [],
   "source": [
    "df_reviewers = pd.read_csv('../Data/JOSS Table Test.csv')"
   ]
  },
  {
   "cell_type": "code",
   "execution_count": 23,
   "id": "8bb2517b-8a68-4e3b-a648-9d19631e274d",
   "metadata": {},
   "outputs": [],
   "source": [
    "from sklearn.metrics.pairwise import cosine_similarity"
   ]
  },
  {
   "cell_type": "code",
   "execution_count": 34,
   "id": "bfb32791-5144-43f8-ae62-8ad0441f42cc",
   "metadata": {},
   "outputs": [],
   "source": [
    "def GetReviewerSample_Sense2Vec(paper_vec, df_reviewers=df_reviewers):\n",
    "    all_usernames = []\n",
    "    all_domains = []\n",
    "    all_cosine_sims = []\n",
    "    for j in range(df_reviewers.shape[0]-1):\n",
    "        if pd.isna(df_reviewers.iloc[j+1]['Domains/topic areas you are comfortable reviewing']) == False:\n",
    "            reviewer_interests = df_reviewers.iloc[j+1]['Domains/topic areas you are comfortable reviewing'].lower()\n",
    "            reviewer_interests.replace('/',' ')\n",
    "            doc = model(reviewer_interests)\n",
    "            reviewer_arr = []\n",
    "            for token in doc:\n",
    "                if token.is_alpha == True:\n",
    "                    if token.is_stop == False:\n",
    "                        reviewer_arr.append(str(token.lemma_).lower())\n",
    "            reviewer_arr = np.array(reviewer_arr)\n",
    "            word_vec = np.zeros((128))\n",
    "            counter = 0\n",
    "            for P in range(len(reviewer_arr)):\n",
    "                best = s2v.get_best_sense(reviewer_arr[P])\n",
    "                if best != None:\n",
    "                    vector = s2v[best]\n",
    "                    word_vec = word_vec + vector\n",
    "                    counter = counter + 1\n",
    "            \n",
    "            if counter > 0:\n",
    "                average_reviewer_vec = word_vec / counter\n",
    "          \n",
    "                all_usernames.append(df_reviewers.username.iloc[j+1])\n",
    "                all_domains.append(reviewer_interests)\n",
    "                all_cosine_sims.append(cosine_similarity(np.array([paper_vec]), np.array([average_reviewer_vec]))[0,0])\n",
    "    return np.array(all_usernames), np.array(all_domains), np.array(all_cosine_sims)\n",
    "                "
   ]
  },
  {
   "cell_type": "code",
   "execution_count": 35,
   "id": "3ea4978c-92a0-46a6-a176-1a0a180f3ec1",
   "metadata": {},
   "outputs": [],
   "source": [
    "all_usernames, all_domains, all_cosine_sims = GetReviewerSample_Sense2Vec(average_word_vec)"
   ]
  },
  {
   "cell_type": "code",
   "execution_count": 36,
   "id": "bd4b88c1-753f-45f1-9498-8183c00951f6",
   "metadata": {},
   "outputs": [],
   "source": [
    "def TopReviewers(number=5, all_usernames=all_usernames, all_domains=all_domains, all_cosine_sims=all_cosine_sims):\n",
    "    message = 'Hello.\\nI have found ' +str(number) + ' possible reviewers for this paper.'+ '\\n\\n'\n",
    "    for J in range(number):\n",
    "        index = np.argsort(all_cosine_sims)[-1-J]\n",
    "        #print(index)\n",
    "        ps = 'I believe '+ str(all_usernames[index]) + ' will be a good reviewer for this paper. Their domain interests and this paper have a cosine similairity score of ' + str(all_cosine_sims[index])[:6] + '. This reviewers domain interests are ' + str(all_domains[index].replace('\\n', ','))\n",
    "        message = message + ps + '\\n\\n'\n",
    "    print(message) "
   ]
  },
  {
   "cell_type": "code",
   "execution_count": 37,
   "id": "88b68eba-4f99-4816-8492-4fa292c122a0",
   "metadata": {},
   "outputs": [
    {
     "name": "stdout",
     "output_type": "stream",
     "text": [
      "Hello.\n",
      " I have found 5 possible reviewers for this paper.\n",
      "\n",
      "I believe aaronpeikert will be a good reviewer for this paper. Their domain interests and this paper have a cosine similairity score of 0.9316. This reviewers domain interests are machine learning, - model selection, - structural equation modelling, - multimodel inference, - hierarchical data, , open science, - reproducibility, - dynamic document generation, - containers, - version control\n",
      "\n",
      "I believe road2stat will be a good reviewer for this paper. Their domain interests and this paper have a cosine similairity score of 0.9303. This reviewers domain interests are machine learning, bioinformatics, cheminformatics, drug discovery, variable selection, high-dimensional data, biological sequence analysis\n",
      "\n",
      "I believe vc1492a will be a good reviewer for this paper. Their domain interests and this paper have a cosine similairity score of 0.9282. This reviewers domain interests are anomaly detection, natural language processing, graph methods (network analysis)\n",
      "\n",
      "I believe none will be a good reviewer for this paper. Their domain interests and this paper have a cosine similairity score of 0.9268. This reviewers domain interests are statistical modeling, extreme values, machine learning, time series, spatial statistics, spatio-temporal models\n",
      "\n",
      "I believe torressa will be a good reviewer for this paper. Their domain interests and this paper have a cosine similairity score of 0.9242. This reviewers domain interests are optimization: modelling (lps, milps, mmilps), solution approaches (heuristics, hyper-heuristics, column generation), applications (aviation, vehicle routing, scheduling)\n",
      "\n",
      "\n"
     ]
    }
   ],
   "source": [
    "TopReviewers()"
   ]
  },
  {
   "cell_type": "code",
   "execution_count": null,
   "id": "917181b3-74fd-4239-b456-a23b34175316",
   "metadata": {},
   "outputs": [],
   "source": []
  },
  {
   "cell_type": "code",
   "execution_count": null,
   "id": "345cfc15-219d-449f-a663-1847fc292761",
   "metadata": {},
   "outputs": [],
   "source": []
  }
 ],
 "metadata": {
  "kernelspec": {
   "display_name": "Python 3",
   "language": "python",
   "name": "python3"
  },
  "language_info": {
   "codemirror_mode": {
    "name": "ipython",
    "version": 3
   },
   "file_extension": ".py",
   "mimetype": "text/x-python",
   "name": "python",
   "nbconvert_exporter": "python",
   "pygments_lexer": "ipython3",
   "version": "3.9.9"
  }
 },
 "nbformat": 4,
 "nbformat_minor": 5
}
