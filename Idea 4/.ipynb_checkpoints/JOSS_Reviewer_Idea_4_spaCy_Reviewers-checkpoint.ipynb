{
 "cells": [
  {
   "cell_type": "code",
   "execution_count": 1,
   "id": "eae6aa9e-7be4-4063-8955-1e55d8326677",
   "metadata": {},
   "outputs": [],
   "source": [
    "import numpy as np\n",
    "import sys\n",
    "from sklearn.datasets import fetch_20newsgroups\n",
    "from nltk import word_tokenize\n",
    "from nltk import download\n",
    "from nltk.corpus import stopwords\n",
    "import matplotlib.pyplot as plt\n",
    "from sklearn.decomposition import PCA\n",
    "%matplotlib inline\n",
    "import spacy"
   ]
  },
  {
   "cell_type": "code",
   "execution_count": 10,
   "id": "625c875b-b68a-44c3-9589-64ec84eee967",
   "metadata": {},
   "outputs": [],
   "source": [
    "from JOSS_PDF_Cleaner import Clean_PDF\n",
    "import re\n",
    "from termcolor import colored\n",
    "import warnings"
   ]
  },
  {
   "cell_type": "code",
   "execution_count": 2,
   "id": "8ab01f6c-742c-43cc-b218-751601401cbd",
   "metadata": {},
   "outputs": [
    {
     "name": "stderr",
     "output_type": "stream",
     "text": [
      "[nltk_data] Downloading package stopwords to\n",
      "[nltk_data]     /Users/sunilmcesh/nltk_data...\n",
      "[nltk_data]   Package stopwords is already up-to-date!\n",
      "[nltk_data] Downloading package punkt to\n",
      "[nltk_data]     /Users/sunilmcesh/nltk_data...\n",
      "[nltk_data]   Package punkt is already up-to-date!\n",
      "[nltk_data] Downloading package wordnet to\n",
      "[nltk_data]     /Users/sunilmcesh/nltk_data...\n",
      "[nltk_data]   Package wordnet is already up-to-date!\n"
     ]
    }
   ],
   "source": [
    "import numpy as np\n",
    "import matplotlib.pyplot as plt\n",
    "import pandas as pd\n",
    "import glob\n",
    "import string\n",
    "import glob\n",
    "from tqdm import tqdm \n",
    "#import pdfminer\n",
    "from pdfminer.high_level import extract_text\n",
    "import pandas as pd\n",
    "from sklearn.feature_extraction.text import TfidfVectorizer\n",
    "import nltk \n",
    "nltk.download('stopwords')\n",
    "import numpy as np\n",
    "from sklearn.pipeline import Pipeline\n",
    "from sklearn.feature_extraction.text import TfidfTransformer\n",
    "from sklearn.feature_extraction.text import CountVectorizer\n",
    "import nltk\n",
    "nltk.download('punkt')\n",
    "from nltk import sent_tokenize\n",
    "from nltk import word_tokenize\n",
    "from nltk.corpus import stopwords\n",
    "from nltk.stem import WordNetLemmatizer\n",
    "nltk.download('wordnet')\n",
    "from nltk.probability import FreqDist"
   ]
  },
  {
   "cell_type": "code",
   "execution_count": 3,
   "id": "11391e28-0f1a-4016-94ca-b3ad67b7be81",
   "metadata": {},
   "outputs": [],
   "source": [
    "df_reviewers = pd.read_csv('../Data/JOSS Table Test.csv')"
   ]
  },
  {
   "cell_type": "code",
   "execution_count": 4,
   "id": "a2bbc5d5-4053-4c3d-8ed6-bf8ddcf94deb",
   "metadata": {},
   "outputs": [],
   "source": [
    "def GetReviewer_Vectors(df_reviewers=df_reviewers):\n",
    "    reviewer_vectors = np.zeros(((df_reviewers.shape[0]-1),300))\n",
    "    for i in range(df_reviewers.shape[0]-1):\n",
    "        #if i%10 == 0:\n",
    "        #    print(i)\n",
    "        if pd.isna(df_reviewers['Domains/topic areas you are comfortable reviewing'].iloc[1:].values[i]) == False:\n",
    "            review_text = df_reviewers['Domains/topic areas you are comfortable reviewing'].iloc[1:].values[i].lower()\n",
    "            review_text = review_text.replace('-\\\\n','')\n",
    "            review_text = review_text.replace('\\\\n',' ')\n",
    "            review_text = review_text.replace('\\n', ' ')\n",
    "        \n",
    "            review_arr = []\n",
    "            for token in model(review_text):\n",
    "                if token.is_alpha == True:\n",
    "                    if token.is_stop == False:\n",
    "                        review_arr.append(str(token.lemma_).lower())\n",
    "            review_arr = np.array(review_arr)\n",
    "        \n",
    "            review_str = ''\n",
    "            for j in np.unique(review_arr):\n",
    "                review_str = review_str + j +' '\n",
    "        \n",
    "        #print(model(review_str).vector.shape)\n",
    "        #print(reviewer_vectors.shape)\n",
    "            reviewer_vectors[i] = model(review_str).vector\n",
    "    \n",
    "    return reviewer_vectors"
   ]
  },
  {
   "cell_type": "code",
   "execution_count": 33,
   "id": "deaf76d5-2f11-472c-b4d5-2643ef3cb6dc",
   "metadata": {},
   "outputs": [],
   "source": [
    "def GetCosineSims(doc_vec, review_vec, df_reviewers=df_reviewers):\n",
    "    all_usernames = []\n",
    "    all_domains = []\n",
    "    all_cosine_sims = []\n",
    "    for j in range(len(review_vec)):\n",
    "        if pd.isna(df_reviewers.iloc[j+1]['Domains/topic areas you are comfortable reviewing']) == False:\n",
    "            all_cosine_sims.append(cosine_similarity(np.array([doc_vec]), np.array([review_vec[j]]))[0,0])\n",
    "            all_domains.append(df_reviewers.iloc[j+1]['Domains/topic areas you are comfortable reviewing'].lower())\n",
    "            all_usernames.append(df_reviewers.iloc[j+1].username)\n",
    "    all_usernames= np.array(all_usernames)\n",
    "    all_domains= np.array(all_domains)\n",
    "    all_cosine_sims= np.array(all_cosine_sims)\n",
    "    \n",
    "    return all_usernames, all_domains, all_cosine_sims"
   ]
  },
  {
   "cell_type": "code",
   "execution_count": 6,
   "id": "11db8750-c120-46c7-a069-cf38dc028cca",
   "metadata": {},
   "outputs": [],
   "source": [
    "PAPER_OF_INTEREST_FNAME  = glob.glob('/Volumes/Seagate Backup Plus Drive/JOSS Project/joss-papers-master/*/*/*.pdf')"
   ]
  },
  {
   "cell_type": "code",
   "execution_count": 7,
   "id": "fa63db09-327e-48cf-b9dc-a46f055df104",
   "metadata": {},
   "outputs": [
    {
     "name": "stdout",
     "output_type": "stream",
     "text": [
      "/Volumes/Seagate Backup Plus Drive/JOSS Project/joss-papers-master/joss-papers-master/joss.00592/10.21105.joss.00592.pdf\n"
     ]
    }
   ],
   "source": [
    "K = 260\n",
    "print(PAPER_OF_INTEREST_FNAME[K])"
   ]
  },
  {
   "cell_type": "code",
   "execution_count": 8,
   "id": "95d10067-c924-4063-9662-fe7dcc790071",
   "metadata": {},
   "outputs": [],
   "source": [
    "Paper_interest = PAPER_OF_INTEREST_FNAME[K]"
   ]
  },
  {
   "cell_type": "code",
   "execution_count": 11,
   "id": "b0e92014-6d96-482f-a946-a30189012557",
   "metadata": {},
   "outputs": [
    {
     "name": "stdout",
     "output_type": "stream",
     "text": [
      "\u001b[31msummary\n",
      "\u001b[0m\n",
      "\u001b[31mdoi: 10.21105/joss.00592\n",
      "\u001b[0m\n",
      "\u001b[31msoftware\n",
      "\u001b[0m\n",
      "\u001b[31m• review\n",
      "• repository\n",
      "• archive\n",
      "\u001b[0m\n",
      "\u001b[31msubmitted: 12 december 2017\n",
      "published: 15 june 2018\n",
      "\u001b[0m\n",
      "\u001b[31mlicense\n",
      "authors of papers retain copyright\n",
      "and release the work under a cre-\n",
      "ative commons attribution 4.0 in-\n",
      "ternational license (cc-by).\n",
      "\u001b[0m\n",
      "\u001b[32maronnax: an idealised isopycnal ocean model\n",
      "\u001b[0m\n",
      "\u001b[31medward w. doddridge1 and alexey radul2\n",
      "\u001b[0m\n",
      "\u001b[31m1 earth, atmospheric and planetary science, massachusetts institute of technology, cambridge,\n",
      "ma, usa 2 brain and cognitive science, massachusetts institute of technology, cambridge, ma,\n",
      "usa\n",
      "\u001b[0m\n",
      "\u001b[32maronnax is a highly idealised model for simulating large-scale (100-1000km) flows in the\n",
      "ocean. aronnax is intended for theoretical and empirical oceanographers, as a (relatively)\n",
      "fast and easy-to-use simulation model, bridging the gap between pencil-and-paper on one\n",
      "hand, and more faithful (and complex) computational models on the other. the numerical\n",
      "core is written in fortran to improve performance, and wrapped in python to improve\n",
      "usability.\n",
      "\u001b[0m\n",
      "\u001b[32maronnax is an isopyncal model: it approximates the ocean as a number of discrete homo-\n",
      "geneous layers with spatially variable thicknesses. these layers are stacked vertically and\n",
      "the density difference between neighbouring layers is specified by the user. other widely\n",
      "used vertical coordinates require solving the equations of motion at specified vertical lev-\n",
      "els where the density is allowed to vary (s. m. griffies et al. 2000). representing the\n",
      "large-scale ocean circulation in layers contributes to aronnax’s speed: one needs only a\n",
      "few layers to achieve the same fidelity as 50 or more fixed vertical levels (stewart et al.\n",
      "2017).\n",
      "\u001b[0m\n",
      "\u001b[32maronnax serves three distinct purposes. firstly, many of the studies that use a model\n",
      "like aronnax do not provide the source code, see e.g. (davis, lique, and johnson 2014,\n",
      "février, sirven, and herbaut (2007), johnson and marshall (2002), stern (1998)). this\n",
      "increases the likelihood that coding errors go undetected, and requires that each research\n",
      "group spend time developing their own idealised model. aronnax solves these problems\n",
      "by providing an open source, tested model for the community to use. secondly, aronnax\n",
      "furthers the goals of scientific reproducibility since a simulation can be entirely specified\n",
      "with a set of input files and a version number. thirdly, aronnax provides an easy-to-use\n",
      "model that may be included in future modelling hierarchies with minimal effort, thereby\n",
      "enabling new research questions to be addressed.\n",
      "\u001b[0m\n",
      "\u001b[32mthere are a number of other publicly available ocean models. of these the most abundant\n",
      "are general circulation models and quasigeostrophic models. general circulation models\n",
      "such as nemo, gold, mom6, and mitgcm solve a less idealised version of the navier-\n",
      "stokes equations and can be coupled with sea ice and atmospheric models to create\n",
      "fully coupled climate models. because the underlying equations are derived with fewer\n",
      "approximations these models can more faithfully simulate a wider range of flow regimes.\n",
      "however, this comes at a price; general circulation models are extremely complex, with\n",
      "numerous free parameters that must be specified, often prior to compiling the source code.\n",
      "it is possible to use most of these models in idealised configurations, but doing so requires\n",
      "a substantial investment of time from the user, and non-trivial computing resources. in\n",
      "comparison, aronnax is easy to install and cheap to run.\n",
      "\u001b[0m\n",
      "\u001b[32mthe other abundant class of models is quasigeostrophic models. geostrophy is a balance\n",
      "between the coriolis force and the horizontal gradient of the pressure field; flows in\n",
      "which the coriolis force and the horizontal pressure gradient almost balance are known\n",
      "\u001b[0m\n",
      "\u001b[31mdoddridge et al., (2018). aronnax: an idealised isopycnal ocean model. journal of open source software, 3(26), 592.\n",
      "https://doi.org/10.21105/joss.00592\n",
      "\u001b[0m\n",
      "\u001b[31m1\n",
      "\u001b[0m\n",
      "\u001b[32mas quasigeostrophic. quasigeostrophic models of the ocean make use of this near balance\n",
      "and a number of other assumptions to simplify the equations of motion from a system of\n",
      "five coupled partial differential equations to a single partial differential equation (vallis\n",
      "2006). quasigeostrophic models range in complexity from qgcm, which includes the\n",
      "option of a coupled atmosphere, to doubly periodic quasigeostrophic turbulence models\n",
      "such as pyqg and qgmodel. while quasigeostrophic models are extremely useful, there\n",
      "are some problems for which they are ill-suited. for example, the adjustment of the ocean\n",
      "circulation often occurs through ageostrophic motions such as boundary waves (johnson\n",
      "and marshall 2002), which are not represented in quasigeostrophic models. in addition,\n",
      "quasigeostrophic models are limited in their representation of sloping bathymetry (depth\n",
      "of the sea floor). for these reasons it may be preferable to use an idealised non-linear\n",
      "model such as aronnax.\n",
      "\u001b[0m\n",
      "\u001b[32maronnax is mit licensed and can be retrieved from github at https://github.com/\n",
      "edoddridge/aronnax.\n",
      "\u001b[0m\n",
      "\u001b[31mreferences\n",
      "\u001b[0m\n",
      "\u001b[31mdavis, peter e d, camille lique, and helen l. johnson. 2014. “on the link between arctic\n",
      "sea ice decline and the freshwater content of the beaufort gyre: insights from a simple\n",
      "process model.” j. clim. 27 (21):8170–84. https://doi.org/10.1175/jcli-d-14-00090.1.\n",
      "\u001b[0m\n",
      "\u001b[31mfévrier, sabine, jérôme sirven, and christophe herbaut. 2007. “interaction of a coastal\n",
      "j. phys.\n",
      "kelvin wave with the mean state in the gulf stream separation area.”\n",
      "oceanogr. 37 (6):1429–44. https://doi.org/10.1175/jpo3062.1.\n",
      "\u001b[0m\n",
      "\u001b[31mgriffies, stephen m, claus böning, frank o. bryan, eric p. chassignet, rudiger gerdes,\n",
      "hiroyasu hasumi, anthony hirst, anne-marie treguier, and david webb. 2000. “de-\n",
      "velopments in ocean climate modelling.” ocean model. 2 (2000):123–92. http://www.\n",
      "sciencedirect.com/science/article/pii/s1463500300000147.\n",
      "\u001b[0m\n",
      "\u001b[31mjohnson, helen l., and david p. marshall.\n",
      "atlantic response to thermohaline variability.”\n",
      "http://dx.doi.org/10.1175/1520-0485(2002)032{\\%}3c1121:atftsa{\\%}3e2.0.co;2.\n",
      "\u001b[0m\n",
      "\u001b[32m“a theory for the surface\n",
      "oceanogr., 1121–32.\n",
      "\u001b[0m\n",
      "\u001b[32mj. phys.\n",
      "\u001b[0m\n",
      "\u001b[31m2002.\n",
      "\u001b[0m\n",
      "\u001b[31mstern, melvin e. 1998. “separation of a density current from the bottom of a con-\n",
      "tinental slope.” j. phys. oceanogr. 28 (10):2040–9. https://doi.org/10.1175/1520-\n",
      "0485(1998)028<2040:soadcf>2.0.co;2.\n",
      "\u001b[0m\n",
      "\u001b[31mstewart, k.d., a.mcc. hogg, s.m. griffies, a.p. heerdegen, m.l. ward, p. spence, and\n",
      "m.h. england. 2017. “vertical resolution of baroclinic modes in global ocean models.”\n",
      "ocean model. 113 (may). elsevier ltd:50–65. https://doi.org/10.1016/j.ocemod.2017.03.\n",
      "012.\n",
      "\u001b[0m\n",
      "\u001b[31mvallis, geoffrey k. 2006. atmospheric and oceanic fluid dynamics. cambridge, uk:\n",
      "cambridge university press.\n",
      "\u001b[0m\n",
      "\u001b[31mdoddridge et al., (2018). aronnax: an idealised isopycnal ocean model. journal of open source software, 3(26), 592.\n",
      "https://doi.org/10.21105/joss.00592\n",
      "\u001b[0m\n",
      "\u001b[31m2\n",
      "\u001b[0m\n"
     ]
    }
   ],
   "source": [
    "texts = ''\n",
    "arr = []\n",
    "from pdfminer.high_level import extract_pages\n",
    "from pdfminer.layout import LTTextContainer\n",
    "for page_layout in extract_pages(Paper_interest):\n",
    "    for element in page_layout:\n",
    "        if isinstance(element, LTTextContainer):\n",
    "            score = Clean_PDF(element.get_text().lower())\n",
    "            #print(score)\n",
    "            if score == 0:\n",
    "                print(colored(element.get_text().lower(), 'green'))\n",
    "                arr.append(element.get_text())\n",
    "                texts = texts  + element.get_text() + ' '\n",
    "            else:\n",
    "                print(colored(element.get_text().lower(), 'red'))\n",
    "            #arr.append(element.get_text())\n",
    "            #texts = texts  + element.get_text() + ' '\n",
    "arr = np.array(arr)"
   ]
  },
  {
   "cell_type": "code",
   "execution_count": 12,
   "id": "bb09a391-7937-44dc-a4c6-686249a6c6c5",
   "metadata": {},
   "outputs": [],
   "source": [
    "texts = texts.replace('-\\\\n','')\n",
    "texts = texts.replace('-\\n','')\n",
    "texts = texts.replace('\\\\n',' ')\n",
    "texts = texts.replace('\\n', ' ')"
   ]
  },
  {
   "cell_type": "code",
   "execution_count": 13,
   "id": "26c039b9-5dc4-43e8-969f-ba261c4c3ead",
   "metadata": {},
   "outputs": [
    {
     "data": {
      "text/plain": [
       "'Aronnax: An idealised isopycnal ocean model  Aronnax is a highly idealised model for simulating large-scale (100-1000km) flows in the ocean. Aronnax is intended for theoretical and empirical oceanographers, as a (relatively) fast and easy-to-use simulation model, bridging the gap between pencil-and-paper on one hand, and more faithful (and complex) computational models on the other. The numerical core is written in Fortran to improve performance, and wrapped in Python to improve usability.  Aronnax is an isopyncal model: it approximates the ocean as a number of discrete homogeneous layers with spatially variable thicknesses. These layers are stacked vertically and the density difference between neighbouring layers is specified by the user. Other widely used vertical coordinates require solving the equations of motion at specified vertical levels where the density is allowed to vary (S. M. Griffies et al. 2000). Representing the large-scale ocean circulation in layers contributes to Aronnax’s speed: one needs only a few layers to achieve the same fidelity as 50 or more fixed vertical levels (Stewart et al. 2017).  Aronnax serves three distinct purposes. Firstly, many of the studies that use a model like Aronnax do not provide the source code, see e.g. (Davis, Lique, and Johnson 2014, Février, Sirven, and Herbaut (2007), Johnson and Marshall (2002), Stern (1998)). This increases the likelihood that coding errors go undetected, and requires that each research group spend time developing their own idealised model. Aronnax solves these problems by providing an open source, tested model for the community to use. Secondly, Aronnax furthers the goals of scientific reproducibility since a simulation can be entirely specified with a set of input files and a version number. Thirdly, Aronnax provides an easy-to-use model that may be included in future modelling hierarchies with minimal effort, thereby enabling new research questions to be addressed.  There are a number of other publicly available ocean models. Of these the most abundant are general circulation models and quasigeostrophic models. General circulation models such as NEMO, GOLD, MOM6, and MITgcm solve a less idealised version of the NavierStokes equations and can be coupled with sea ice and atmospheric models to create fully coupled climate models. Because the underlying equations are derived with fewer approximations these models can more faithfully simulate a wider range of flow regimes. However, this comes at a price; general circulation models are extremely complex, with numerous free parameters that must be specified, often prior to compiling the source code. It is possible to use most of these models in idealised configurations, but doing so requires a substantial investment of time from the user, and non-trivial computing resources. In comparison, Aronnax is easy to install and cheap to run.  The other abundant class of models is quasigeostrophic models. Geostrophy is a balance between the Coriolis force and the horizontal gradient of the pressure field; flows in which the Coriolis force and the horizontal pressure gradient almost balance are known  as quasigeostrophic. Quasigeostrophic models of the ocean make use of this near balance and a number of other assumptions to simplify the equations of motion from a system of five coupled partial differential equations to a single partial differential equation (Vallis 2006). Quasigeostrophic models range in complexity from QGcm, which includes the option of a coupled atmosphere, to doubly periodic quasigeostrophic turbulence models such as PyQG and QGModel. While quasigeostrophic models are extremely useful, there are some problems for which they are ill-suited. For example, the adjustment of the ocean circulation often occurs through ageostrophic motions such as boundary waves (Johnson and Marshall 2002), which are not represented in quasigeostrophic models. In addition, quasigeostrophic models are limited in their representation of sloping bathymetry (depth of the sea floor). For these reasons it may be preferable to use an idealised non-linear model such as Aronnax.  Aronnax is MIT licensed and can be retrieved from GitHub at https://github.com/ edoddridge/aronnax.  “A theory for the surface Oceanogr., 1121–32.  J. Phys.  '"
      ]
     },
     "execution_count": 13,
     "metadata": {},
     "output_type": "execute_result"
    }
   ],
   "source": [
    "texts"
   ]
  },
  {
   "cell_type": "code",
   "execution_count": 14,
   "id": "036e05bd-896a-4be9-a96f-5eb6d1ba9dd5",
   "metadata": {},
   "outputs": [],
   "source": [
    "model = spacy.load('en_core_web_lg')"
   ]
  },
  {
   "cell_type": "code",
   "execution_count": 15,
   "id": "ad9212b6-bf75-4217-a0b3-b2662a1a5c00",
   "metadata": {},
   "outputs": [],
   "source": [
    "reviewer_vectors = GetReviewer_Vectors()"
   ]
  },
  {
   "cell_type": "code",
   "execution_count": 36,
   "id": "0aeb7bfe-258d-4e29-8352-8128224fae36",
   "metadata": {},
   "outputs": [],
   "source": [
    "from sklearn.metrics.pairwise import cosine_similarity\n",
    "all_usernames, all_domains, all_cosine_sims = GetCosineSims(model(texts).vector, reviewer_vectors)"
   ]
  },
  {
   "cell_type": "code",
   "execution_count": 37,
   "id": "2832218c-ff66-4976-89f0-fea11f444bfe",
   "metadata": {},
   "outputs": [],
   "source": [
    "def TopReviewers(number=5, all_usernames=all_usernames, all_domains=all_domains, all_cosine_sims=all_cosine_sims):\n",
    "    message = 'Hello.\\n I have found ' +str(number) + ' possible reviewers for this paper.'+ '\\n\\n'\n",
    "    for J in range(number):\n",
    "        index = np.argsort(all_cosine_sims)[-1-J]\n",
    "        #print(index)\n",
    "        ps = 'I believe '+ str(all_usernames[index]) + ' will be a good reviewer for this paper. Their domain interests and this paper have a cosine similairity score of ' + str(all_cosine_sims[index])[:6] + '. This reviewers domain interests are ' + str(all_domains[index].replace('\\n', ','))\n",
    "        message = message + ps + '\\n\\n'\n",
    "    print(message)    "
   ]
  },
  {
   "cell_type": "code",
   "execution_count": 38,
   "id": "76baf10d-5d0f-44b6-b26f-345dde5c76d3",
   "metadata": {},
   "outputs": [
    {
     "name": "stdout",
     "output_type": "stream",
     "text": [
      "Hello.\n",
      " I have found 5 possible reviewers for this paper.\n",
      "\n",
      "I believe alexpghayes will be a good reviewer for this paper. Their domain interests and this paper have a cosine similairity score of 0.8541. This reviewers domain interests are i'm interested in making sure that r packages for modelling have useful and intuitive interfaces and documentation. i'm not interested in double checking theory and correctness, but making sure that a new user can quickly and easily get the results they want.\n",
      "\n",
      "I believe michaelberks will be a good reviewer for this paper. Their domain interests and this paper have a cosine similairity score of 0.8437. This reviewers domain interests are medical imaging, image processing, compute vision, machine learning/ai applied to images, general scientific/numerical data processing (unless requiring specialist domain specific knowledge outside of the areas listed above)\n",
      "\n",
      "I believe usethedata will be a good reviewer for this paper. Their domain interests and this paper have a cosine similairity score of 0.8327. This reviewers domain interests are most things with a science application, but particularly earth and environmental sciences, remote sensing, and chemistry. from a computing perspective, i'm strongest in information/data architecture and back-end.\n",
      "\n",
      "I believe rmorgan10 will be a good reviewer for this paper. Their domain interests and this paper have a cosine similairity score of 0.8188. This reviewers domain interests are machine learning, deep learning, image classification, time series data, astrophysics, cosmology\n",
      "\n",
      "I believe r3w0p will be a good reviewer for this paper. Their domain interests and this paper have a cosine similairity score of 0.8116. This reviewers domain interests are internet of things, complex event processing, fault tolerance, machine learning\n",
      "\n",
      "\n"
     ]
    }
   ],
   "source": [
    "TopReviewers()"
   ]
  },
  {
   "cell_type": "code",
   "execution_count": 39,
   "id": "15958744-128e-4c0d-ad1c-e72261d2d3fe",
   "metadata": {},
   "outputs": [],
   "source": [
    "doc = model(texts)"
   ]
  },
  {
   "cell_type": "code",
   "execution_count": 40,
   "id": "821ff2a5-fa33-4c07-81b6-84e7030809a5",
   "metadata": {},
   "outputs": [],
   "source": [
    "doc_arr = []\n",
    "for token in doc:\n",
    "    if token.is_alpha == True:\n",
    "        if token.is_stop == False:\n",
    "            doc_arr.append(str(token.lemma_).lower())\n",
    "doc_arr = np.array(doc_arr)"
   ]
  },
  {
   "cell_type": "code",
   "execution_count": 41,
   "id": "74af67a8-563c-47d6-825d-ad7a491985b6",
   "metadata": {},
   "outputs": [],
   "source": [
    "doc_arr_mod = ''\n",
    "for i in doc_arr:\n",
    "    doc_arr_mod = doc_arr_mod + i +' '"
   ]
  },
  {
   "cell_type": "code",
   "execution_count": 42,
   "id": "7f1b01e7-7b28-4c08-ac06-e1f9779ac390",
   "metadata": {},
   "outputs": [
    {
     "data": {
      "text/plain": [
       "'aronnax idealised isopycnal ocean model aronnax highly idealised model simulate large scale km flow ocean aronnax intend theoretical empirical oceanographer relatively fast easy use simulation model bridge gap pencil paper hand faithful complex computational model numerical core write fortran improve performance wrap python improve usability aronnax isopyncal model approximate ocean number discrete homogeneous layer spatially variable thickness layer stack vertically density difference neighbouring layer specify user widely vertical coordinate require solve equation motion specify vertical level density allow vary griffies et al represent large scale ocean circulation layer contribute aronnax speed need layer achieve fidelity fix vertical level stewart et al aronnax serve distinct purpose firstly study use model like aronnax provide source code davis lique johnson février sirven herbaut johnson marshall stern increase likelihood code error undetected require research group spend time develop idealised model aronnax solve problem provide open source test model community use secondly aronnax further goal scientific reproducibility simulation entirely specify set input file version number thirdly aronnax provide easy use model include future modelling hierarchy minimal effort enable new research question address number publicly available ocean model abundant general circulation model quasigeostrophic model general circulation model nemo gold mitgcm solve idealised version navierstokes equation couple sea ice atmospheric model create fully couple climate model underlying equation derive few approximation model faithfully simulate wide range flow regime come price general circulation model extremely complex numerous free parameter specify prior compile source code possible use model idealised configuration require substantial investment time user non trivial computing resource comparison aronnax easy install cheap run abundant class model quasigeostrophic model geostrophy balance coriolis force horizontal gradient pressure field flow coriolis force horizontal pressure gradient balance know quasigeostrophic quasigeostrophic model ocean use near balance number assumption simplify equation motion system couple partial differential equation single partial differential equation vallis quasigeostrophic model range complexity qgcm include option couple atmosphere doubly periodic quasigeostrophic turbulence model pyqg qgmodel quasigeostrophic model extremely useful problem ill suit example adjustment ocean circulation occur ageostrophic motion boundary wave johnson marshall represent quasigeostrophic model addition quasigeostrophic model limit representation slope bathymetry depth sea floor reason preferable use idealised non linear model aronnax aronnax mit license retrieve github edoddridge aronnax theory surface oceanogr phys '"
      ]
     },
     "execution_count": 42,
     "metadata": {},
     "output_type": "execute_result"
    }
   ],
   "source": [
    "doc_arr_mod"
   ]
  },
  {
   "cell_type": "code",
   "execution_count": 52,
   "id": "84c54e26-0414-46ca-b354-5d76d3b6ab2a",
   "metadata": {},
   "outputs": [],
   "source": [
    "all_usernames2, all_domains2, all_cosine_sims2 = GetCosineSims(model(doc_arr_mod).vector, reviewer_vectors)"
   ]
  },
  {
   "cell_type": "code",
   "execution_count": 53,
   "id": "39f9f41f-3d72-4c69-b5f8-7516bf7cce63",
   "metadata": {},
   "outputs": [
    {
     "name": "stdout",
     "output_type": "stream",
     "text": [
      "Hello.\n",
      " I have found 5 possible reviewers for this paper.\n",
      "\n",
      "I believe TomGoffrey will be a good reviewer for this paper. Their domain interests and this paper have a cosine similairity score of 0.9073. This reviewers domain interests are astrophysics (my main area of expertise is in stellar physics, but i also have some background in planetary physics), plasma physics, hydrodynamics (shock capturing and modelling in particular), magnetohydrodynamics (i have worked a lot on non-ideal mhd in particular), radiation transport, (large )linear systems, time-integration methods, finite volume methods, arbitrary/lagrangian meshes, multi-material flow.\n",
      "\n",
      "I believe aaronpeikert will be a good reviewer for this paper. Their domain interests and this paper have a cosine similairity score of 0.9042. This reviewers domain interests are machine learning, - model selection, - structural equation modelling, - multimodel inference, - hierarchical data, , open science, - reproducibility, - dynamic document generation, - containers, - version control\n",
      "\n",
      "I believe michaelberks will be a good reviewer for this paper. Their domain interests and this paper have a cosine similairity score of 0.8824. This reviewers domain interests are medical imaging, image processing, compute vision, machine learning/ai applied to images, general scientific/numerical data processing (unless requiring specialist domain specific knowledge outside of the areas listed above)\n",
      "\n",
      "I believe alexpghayes will be a good reviewer for this paper. Their domain interests and this paper have a cosine similairity score of 0.8674. This reviewers domain interests are i'm interested in making sure that r packages for modelling have useful and intuitive interfaces and documentation. i'm not interested in double checking theory and correctness, but making sure that a new user can quickly and easily get the results they want.\n",
      "\n",
      "I believe lucask07 will be a good reviewer for this paper. Their domain interests and this paper have a cosine similairity score of 0.8670. This reviewers domain interests are instrument control, (possibly) image analysis, experiment data analysis (physics or ee based)\n",
      "\n",
      "\n"
     ]
    }
   ],
   "source": [
    "TopReviewers(5, all_usernames2, all_domains2, all_cosine_sims2)"
   ]
  },
  {
   "cell_type": "code",
   "execution_count": 54,
   "id": "5dd15835-2c4d-4b66-98f5-8f6778fb97be",
   "metadata": {},
   "outputs": [
    {
     "data": {
      "text/plain": [
       "array(['abundant', 'achieve', 'addition', 'address', 'adjustment',\n",
       "       'ageostrophic', 'al', 'allow', 'approximate', 'approximation',\n",
       "       'aronnax', 'assumption', 'atmosphere', 'atmospheric', 'available',\n",
       "       'balance', 'bathymetry', 'boundary', 'bridge', 'cheap',\n",
       "       'circulation', 'class', 'climate', 'code', 'come', 'community',\n",
       "       'comparison', 'compile', 'complex', 'complexity', 'computational',\n",
       "       'computing', 'configuration', 'contribute', 'coordinate', 'core',\n",
       "       'coriolis', 'couple', 'create', 'davis', 'density', 'depth',\n",
       "       'derive', 'develop', 'difference', 'differential', 'discrete',\n",
       "       'distinct', 'doubly', 'easy', 'edoddridge', 'effort', 'empirical',\n",
       "       'enable', 'entirely', 'equation', 'error', 'et', 'example',\n",
       "       'extremely', 'faithful', 'faithfully', 'fast', 'few', 'fidelity',\n",
       "       'field', 'file', 'firstly', 'fix', 'floor', 'flow', 'force',\n",
       "       'fortran', 'free', 'fully', 'further', 'future', 'février', 'gap',\n",
       "       'general', 'geostrophy', 'github', 'goal', 'gold', 'gradient',\n",
       "       'griffies', 'group', 'hand', 'herbaut', 'hierarchy', 'highly',\n",
       "       'homogeneous', 'horizontal', 'ice', 'idealised', 'ill', 'improve',\n",
       "       'include', 'increase', 'input', 'install', 'intend', 'investment',\n",
       "       'isopycnal', 'isopyncal', 'johnson', 'km', 'know', 'large',\n",
       "       'layer', 'level', 'license', 'like', 'likelihood', 'limit',\n",
       "       'linear', 'lique', 'marshall', 'minimal', 'mit', 'mitgcm', 'model',\n",
       "       'modelling', 'motion', 'navierstokes', 'near', 'need',\n",
       "       'neighbouring', 'nemo', 'new', 'non', 'number', 'numerical',\n",
       "       'numerous', 'occur', 'ocean', 'oceanogr', 'oceanographer', 'open',\n",
       "       'option', 'paper', 'parameter', 'partial', 'pencil', 'performance',\n",
       "       'periodic', 'phys', 'possible', 'preferable', 'pressure', 'price',\n",
       "       'prior', 'problem', 'provide', 'publicly', 'purpose', 'pyqg',\n",
       "       'python', 'qgcm', 'qgmodel', 'quasigeostrophic', 'question',\n",
       "       'range', 'reason', 'regime', 'relatively', 'represent',\n",
       "       'representation', 'reproducibility', 'require', 'research',\n",
       "       'resource', 'retrieve', 'run', 'scale', 'scientific', 'sea',\n",
       "       'secondly', 'serve', 'set', 'simplify', 'simulate', 'simulation',\n",
       "       'single', 'sirven', 'slope', 'solve', 'source', 'spatially',\n",
       "       'specify', 'speed', 'spend', 'stack', 'stern', 'stewart', 'study',\n",
       "       'substantial', 'suit', 'surface', 'system', 'test', 'theoretical',\n",
       "       'theory', 'thickness', 'thirdly', 'time', 'trivial', 'turbulence',\n",
       "       'underlying', 'undetected', 'usability', 'use', 'useful', 'user',\n",
       "       'vallis', 'variable', 'vary', 'version', 'vertical', 'vertically',\n",
       "       'wave', 'wide', 'widely', 'wrap', 'write'], dtype='<U16')"
      ]
     },
     "execution_count": 54,
     "metadata": {},
     "output_type": "execute_result"
    }
   ],
   "source": [
    "np.unique(doc_arr)"
   ]
  },
  {
   "cell_type": "code",
   "execution_count": 55,
   "id": "49451157-1cf2-4dc8-bb16-a9225d9c822d",
   "metadata": {},
   "outputs": [],
   "source": [
    "doc_str = ''\n",
    "for i in np.unique(doc_arr):\n",
    "    doc_str = doc_str + i +' '"
   ]
  },
  {
   "cell_type": "code",
   "execution_count": 56,
   "id": "4b68619a-8a54-4ecf-a86f-b7126d11af5d",
   "metadata": {},
   "outputs": [
    {
     "data": {
      "text/plain": [
       "'abundant achieve addition address adjustment ageostrophic al allow approximate approximation aronnax assumption atmosphere atmospheric available balance bathymetry boundary bridge cheap circulation class climate code come community comparison compile complex complexity computational computing configuration contribute coordinate core coriolis couple create davis density depth derive develop difference differential discrete distinct doubly easy edoddridge effort empirical enable entirely equation error et example extremely faithful faithfully fast few fidelity field file firstly fix floor flow force fortran free fully further future février gap general geostrophy github goal gold gradient griffies group hand herbaut hierarchy highly homogeneous horizontal ice idealised ill improve include increase input install intend investment isopycnal isopyncal johnson km know large layer level license like likelihood limit linear lique marshall minimal mit mitgcm model modelling motion navierstokes near need neighbouring nemo new non number numerical numerous occur ocean oceanogr oceanographer open option paper parameter partial pencil performance periodic phys possible preferable pressure price prior problem provide publicly purpose pyqg python qgcm qgmodel quasigeostrophic question range reason regime relatively represent representation reproducibility require research resource retrieve run scale scientific sea secondly serve set simplify simulate simulation single sirven slope solve source spatially specify speed spend stack stern stewart study substantial suit surface system test theoretical theory thickness thirdly time trivial turbulence underlying undetected usability use useful user vallis variable vary version vertical vertically wave wide widely wrap write '"
      ]
     },
     "execution_count": 56,
     "metadata": {},
     "output_type": "execute_result"
    }
   ],
   "source": [
    "doc_str"
   ]
  },
  {
   "cell_type": "code",
   "execution_count": 57,
   "id": "2343979c-bfcf-44f1-aa1c-15b0b20dc5d2",
   "metadata": {},
   "outputs": [],
   "source": [
    "all_usernames3, all_domains3, all_cosine_sims3 = GetCosineSims(model(doc_str).vector, reviewer_vectors)"
   ]
  },
  {
   "cell_type": "code",
   "execution_count": 58,
   "id": "3148728e-3a91-47ce-8e6c-a14e69e8b1e1",
   "metadata": {},
   "outputs": [
    {
     "name": "stdout",
     "output_type": "stream",
     "text": [
      "Hello.\n",
      " I have found 5 possible reviewers for this paper.\n",
      "\n",
      "I believe TomGoffrey will be a good reviewer for this paper. Their domain interests and this paper have a cosine similairity score of 0.9030. This reviewers domain interests are astrophysics (my main area of expertise is in stellar physics, but i also have some background in planetary physics), plasma physics, hydrodynamics (shock capturing and modelling in particular), magnetohydrodynamics (i have worked a lot on non-ideal mhd in particular), radiation transport, (large )linear systems, time-integration methods, finite volume methods, arbitrary/lagrangian meshes, multi-material flow.\n",
      "\n",
      "I believe michaelberks will be a good reviewer for this paper. Their domain interests and this paper have a cosine similairity score of 0.8993. This reviewers domain interests are medical imaging, image processing, compute vision, machine learning/ai applied to images, general scientific/numerical data processing (unless requiring specialist domain specific knowledge outside of the areas listed above)\n",
      "\n",
      "I believe aaronpeikert will be a good reviewer for this paper. Their domain interests and this paper have a cosine similairity score of 0.8865. This reviewers domain interests are machine learning, - model selection, - structural equation modelling, - multimodel inference, - hierarchical data, , open science, - reproducibility, - dynamic document generation, - containers, - version control\n",
      "\n",
      "I believe alexpghayes will be a good reviewer for this paper. Their domain interests and this paper have a cosine similairity score of 0.8816. This reviewers domain interests are i'm interested in making sure that r packages for modelling have useful and intuitive interfaces and documentation. i'm not interested in double checking theory and correctness, but making sure that a new user can quickly and easily get the results they want.\n",
      "\n",
      "I believe usethedata will be a good reviewer for this paper. Their domain interests and this paper have a cosine similairity score of 0.8785. This reviewers domain interests are most things with a science application, but particularly earth and environmental sciences, remote sensing, and chemistry. from a computing perspective, i'm strongest in information/data architecture and back-end.\n",
      "\n",
      "\n"
     ]
    }
   ],
   "source": [
    "TopReviewers(5,all_usernames3, all_domains3, all_cosine_sims3)"
   ]
  },
  {
   "cell_type": "code",
   "execution_count": null,
   "id": "e9abf392-5cfc-43fe-a486-0d7ce5b10a5a",
   "metadata": {},
   "outputs": [],
   "source": []
  },
  {
   "cell_type": "code",
   "execution_count": null,
   "id": "e3ff80fe-5c0d-4d8d-a3fe-826149920030",
   "metadata": {},
   "outputs": [],
   "source": []
  },
  {
   "cell_type": "code",
   "execution_count": null,
   "id": "9cbaf553-0ef0-4bbc-a609-54340f33a310",
   "metadata": {},
   "outputs": [],
   "source": []
  },
  {
   "cell_type": "code",
   "execution_count": null,
   "id": "590886df-5929-4fe3-b874-6437cc321b31",
   "metadata": {},
   "outputs": [],
   "source": []
  }
 ],
 "metadata": {
  "kernelspec": {
   "display_name": "Python 3",
   "language": "python",
   "name": "python3"
  },
  "language_info": {
   "codemirror_mode": {
    "name": "ipython",
    "version": 3
   },
   "file_extension": ".py",
   "mimetype": "text/x-python",
   "name": "python",
   "nbconvert_exporter": "python",
   "pygments_lexer": "ipython3",
   "version": "3.9.9"
  }
 },
 "nbformat": 4,
 "nbformat_minor": 5
}
